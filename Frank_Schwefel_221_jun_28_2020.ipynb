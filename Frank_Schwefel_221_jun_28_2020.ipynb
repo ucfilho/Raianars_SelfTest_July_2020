{
  "nbformat": 4,
  "nbformat_minor": 0,
  "metadata": {
    "colab": {
      "name": "Frank_Schwefel_221_jun_28_2020.ipynb",
      "provenance": [],
      "collapsed_sections": [],
      "include_colab_link": true
    },
    "kernelspec": {
      "name": "python3",
      "display_name": "Python 3"
    },
    "language_info": {
      "codemirror_mode": {
        "name": "ipython",
        "version": 3
      },
      "file_extension": ".py",
      "mimetype": "text/x-python",
      "name": "python",
      "nbconvert_exporter": "python",
      "pygments_lexer": "ipython3",
      "version": "3.7.3"
    },
    "accelerator": "GPU"
  },
  "cells": [
    {
      "cell_type": "markdown",
      "metadata": {
        "id": "view-in-github",
        "colab_type": "text"
      },
      "source": [
        "<a href=\"https://colab.research.google.com/github/ucfilho/Raianars_SelfTest_July_2020/blob/master/Frank_Schwefel_221_jun_28_2020.ipynb\" target=\"_parent\"><img src=\"https://colab.research.google.com/assets/colab-badge.svg\" alt=\"Open In Colab\"/></a>"
      ]
    },
    {
      "cell_type": "code",
      "metadata": {
        "id": "cG5nOUQ9Eucw",
        "colab_type": "code",
        "colab": {}
      },
      "source": [
        "# Schwefel_221\n",
        "# In the paper Ngen=5000 Npar=100 dim=30\n",
        "# JADE: Adaptive Differential Evolution with Optional External Archive"
      ],
      "execution_count": 1,
      "outputs": []
    },
    {
      "cell_type": "code",
      "metadata": {
        "id": "Va-6Xios8RjU",
        "colab_type": "code",
        "colab": {
          "base_uri": "https://localhost:8080/",
          "height": 52
        },
        "outputId": "2aba336f-2458-435d-fd72-ef75d42177d8"
      },
      "source": [
        "!git clone https://github.com/ucfilho/Raianars_July_2020 #clonar do Github\n",
        "%cd Raianars_July_2020"
      ],
      "execution_count": 2,
      "outputs": [
        {
          "output_type": "stream",
          "text": [
            "fatal: destination path 'Raianars_July_2020' already exists and is not an empty directory.\n",
            "/content/Raianars_July_2020\n"
          ],
          "name": "stdout"
        }
      ]
    },
    {
      "cell_type": "code",
      "metadata": {
        "id": "_E15mKFURR6O",
        "colab_type": "code",
        "colab": {}
      },
      "source": [
        "import Go2Ann\n",
        "import de_soma_Insight\n",
        "import de_bounds_matriz\n",
        "import Function\n",
        "import Go2MinMax\n",
        "from AvaliaX import AvaliaX\n",
        "from GeraIndices import GeraIndices\n",
        "\n",
        "############################### DADOS DE ENTRADA \n",
        "RUNS=50 #NÚMERO DE RODADAS\n",
        "Fc=0.1 # fator de correcao parametros da ANN\n",
        "its=1 #10 # quantas vezes vai usar o NPAR antes de alterar de novo\n",
        "ITE=5000 #10 # PONTOS quantas vezes vai alteral NPAR \n",
        "\n",
        "mut=0.5\n",
        "crossp=0.5\n",
        "Fi=mut;CRi=crossp;# para impressão\n",
        "\n",
        "############################### Função\n",
        "dim=30\n",
        "NPAR=100\n",
        "\n",
        "#fchoice='Rastrigin' #fchoice='Michalewicz' #fchoice='Schwefel'\n",
        "fchoice='Schwefel_221'\n",
        "Fun=Function.Schwefel_221\n",
        "\n",
        "MIN,MAX=Go2MinMax.Intervalo(dim,fchoice)\n",
        "PAR=len(MAX) #NUM DE PARAMETROS A SER OTIMIZADOS\n"
      ],
      "execution_count": 3,
      "outputs": []
    },
    {
      "cell_type": "code",
      "metadata": {
        "colab_type": "code",
        "id": "v1OxgXboBKoG",
        "colab": {}
      },
      "source": [
        "import time\n",
        "import matplotlib.pyplot as plt\n",
        "import numpy as np\n",
        "from random import randint\n",
        "from scipy import optimize\n",
        "import pandas as pd\n",
        "from sklearn.metrics import confusion_matrix"
      ],
      "execution_count": 4,
      "outputs": []
    },
    {
      "cell_type": "code",
      "metadata": {
        "id": "qTINtQ1cosZK",
        "colab_type": "code",
        "colab": {
          "base_uri": "https://localhost:8080/",
          "height": 52
        },
        "outputId": "6ae97513-753c-4106-a883-b84810ed20df"
      },
      "source": [
        "!git clone https://github.com/ucfilho/ANN_read_matrix #clonar do Github\n",
        "%cd ANN_read_matrix"
      ],
      "execution_count": 5,
      "outputs": [
        {
          "output_type": "stream",
          "text": [
            "fatal: destination path 'ANN_read_matrix' already exists and is not an empty directory.\n",
            "/content/Raianars_July_2020/ANN_read_matrix\n"
          ],
          "name": "stdout"
        }
      ]
    },
    {
      "cell_type": "code",
      "metadata": {
        "id": "QiQLYOoNoyCw",
        "colab_type": "code",
        "colab": {}
      },
      "source": [
        "ANN_F=pd.read_csv('ANN_INSIGHT_Valor_F.csv')"
      ],
      "execution_count": 6,
      "outputs": []
    },
    {
      "cell_type": "code",
      "metadata": {
        "id": "uHtW2amaDzFv",
        "colab_type": "code",
        "colab": {}
      },
      "source": [
        "ANN_CR=pd.read_csv('ANN_INSIGHT_CR.csv')"
      ],
      "execution_count": 7,
      "outputs": []
    },
    {
      "cell_type": "code",
      "metadata": {
        "id": "EH6h_vke2yu1",
        "colab_type": "code",
        "colab": {}
      },
      "source": [
        "syn0_F,syn1_F,X_max_F,X_min_F=Go2Ann.GetMatriz(ANN_F)"
      ],
      "execution_count": 8,
      "outputs": []
    },
    {
      "cell_type": "code",
      "metadata": {
        "id": "WW_3ZWJXD60i",
        "colab_type": "code",
        "colab": {}
      },
      "source": [
        "syn0_CR,syn1_CR,X_max_CR,X_min_CR=Go2Ann.GetMatriz(ANN_CR)"
      ],
      "execution_count": 9,
      "outputs": []
    },
    {
      "cell_type": "code",
      "metadata": {
        "id": "b4gwBvVTyaXh",
        "colab_type": "code",
        "colab": {}
      },
      "source": [
        "ANN_CR=pd.read_csv('ANN_INSIGHT_CR.csv')"
      ],
      "execution_count": 10,
      "outputs": []
    },
    {
      "cell_type": "code",
      "metadata": {
        "id": "6jL8MxpHvk-Y",
        "colab_type": "code",
        "colab": {}
      },
      "source": [
        "fields = ['DI RELATIVO','FRAC Its','Fo','CRo']"
      ],
      "execution_count": 11,
      "outputs": []
    },
    {
      "cell_type": "code",
      "metadata": {
        "id": "Mb3LmbSmj9v7",
        "colab_type": "code",
        "colab": {}
      },
      "source": [
        "##################################### \n",
        "\n",
        "#TOTAL=7*dim*its*ITE\n",
        "TOTAL=10*dim*its*ITE\n",
        "TOTAL=int(TOTAL/2)   # CONFERIR SE ESTE EH O MELHOR LUGAR\n",
        "\n",
        "dimensions=len(MAX)\n",
        "start_time = time.time() #INICIALIZA CONTAGEM DO TEMPO\n",
        "\n",
        "\n",
        "\n",
        "MAX_P=np.zeros(ITE) # ATENCAO para variar F e Cr MAX_P passa a ser 3 vezes maior\n",
        "MIN_P=np.zeros(ITE) # ATENCAO para variar F e Cr MIN_P passa a ser 3 vezes maior\n",
        "\n",
        "for i in range(dim):\n",
        "  MAX_P[i]=MAX[i] \n",
        "  MIN_P[i]=MIN[i]\n",
        "\n",
        "rodadas=1\n",
        "for i in range(rodadas):\n",
        "  SOMA=0\n",
        "  pop = np.random.rand(NPAR, dimensions)\n",
        "  diff=np.zeros(PAR)\n",
        "  for ii in range(PAR):\n",
        "    diff[ii] = MAX[ii]-MIN[ii]\n",
        "  X = MIN + pop * diff\n",
        "    \n",
        "  PONTOS=ITE # DIVISOES DA POPULACAO\n",
        " \n",
        "\n",
        "\n",
        "\n"
      ],
      "execution_count": 12,
      "outputs": []
    },
    {
      "cell_type": "code",
      "metadata": {
        "id": "rnX8ttNopd1G",
        "colab_type": "code",
        "colab": {
          "base_uri": "https://localhost:8080/",
          "height": 884
        },
        "outputId": "d54e8f7c-2fed-4923-cef6-57d8b4fd04f7"
      },
      "source": [
        "\n",
        "start_time = time.time()\n",
        "BEST_AGENTS=[]\n",
        "MAT_stat=[]\n",
        "for i in range(RUNS):\n",
        "    MAT=[] \n",
        "    mut=Fi\n",
        "    crossp=CRi\n",
        "    SOMA=0\n",
        "    SOMAf=0\n",
        "    start_ite = time.time()\n",
        "    \n",
        "    pop = np.random.rand(NPAR, dim)\n",
        "    diff=np.zeros(PAR)\n",
        "    for ii in range(PAR):\n",
        "      diff[ii] = MAX[ii]-MIN[ii]\n",
        "    X = MIN + pop * diff\n",
        "    Xf = MIN + pop * diff\n",
        "    \n",
        "    DIo=1e99\n",
        "  \n",
        "    CRo=crossp;Fo=mut;\n",
        "    Fitness = np.asarray([Fun(ind) for ind in X])\n",
        "\n",
        "    XY,BEST_XY,BESTo,FOBESTo=AvaliaX(X,Fitness)\n",
        "    nrow,ncol=X.shape\n",
        "\n",
        "    QUANT=17;MAT_INDo=np.zeros((1,QUANT)); # quantos indices esta fazendo\n",
        "    MAT_INDo[0,5]=nrow  # VALOR NP\n",
        "    MAT_INDo[0,6]=Fo    # VALOR Fo   \n",
        "    MAT_INDo[0,7]=CRo   # VALOR CRo\n",
        "  \n",
        "    MAT_INDo=GeraIndices(X,BESTo,FOBESTo,DIo,MAT_INDo,SOMA,TOTAL,syn0_F,\n",
        "                        syn1_F,X_max_F,X_min_F,syn0_CR,syn1_CR,X_max_CR,\n",
        "                        X_min_CR,Fc,fields,Fun)\n",
        "  \n",
        "    DIo=np.copy(MAT_INDo[0,0])\n",
        "    MAT_INDo[0,15]=Fo    # VALOR Fo   \n",
        "    MAT_INDo[0,16]=CRo   # VALOR CRo\n",
        "    #ind_crossp=ITE-1\n",
        "\n",
        "    \n",
        "    for k in range(ITE):\n",
        "      X,BEST,FOBEST,XY,BEST_XY,SOMA= de_soma_Insight.de(MAX,MIN, mut, crossp,NPAR,its,Fun,X,SOMA,TOTAL)\n",
        "      #Xf,BESTf,FOBESTf,XYf,BEST_XYf,SOMAf= de_soma_Insight.de(MAX,MIN, Fi, CRi, NPAR,its,Fun,Xf,SOMAf,TOTAL)\n",
        "\n",
        "      \n",
        "      MAT_IND=GeraIndices(X,BESTo,FOBESTo,DIo,MAT_INDo,SOMA,TOTAL,syn0_F,\n",
        "                          syn1_F,X_max_F,X_min_F,syn0_CR,syn1_CR,X_max_CR,\n",
        "                          X_min_CR,Fc,fields,Fun)\n",
        "    \n",
        "      BESTo=np.copy(BEST);FOBESTo=np.copy(FOBEST);\n",
        "      MAT.append(MAT_IND.ravel())\n",
        "    \n",
        "      MAT_INDo[0,6]=MAT_IND[0,15]   # VALOR Fo   \n",
        "      MAT_INDo[0,7]=MAT_IND[0,16]   # VALOR CRo\n",
        "      mut=MAT_IND[0,15]\n",
        "      crossp=MAT_IND[0,16]\n",
        "\n",
        "      Fitness = np.asarray([Fun(ind) for ind in X])\n",
        "      #Fitnessf = np.asarray([Fun(ind) for ind in Xf])\n",
        "      Maior=np.argmax(Fitness)\n",
        "      #Maiorf=np.argmax(Fitnessf)\n",
        "      Menor=np.argmin(Fitness)\n",
        "      #Menorf=np.argmin(Fitnessf)\n",
        "\n",
        "      #X[Maior,:]=np.copy(Xf[Menorf,:])\n",
        "      #Xf[Maiorf,:]=np.copy(X[Menor,:])\n",
        "    delta_time=(start_ite-start_time)/60\n",
        "    print('ite=',i,'total=50','time=',delta_time,'Fobj=',FOBEST)\n",
        "    BEST_AGENTS.append(BEST_XY)\n",
        "    MAT_stat.append(MAT)\n",
        "    #print(\"GlobalParam e Solucao:\", BEST,\"Funcao=\",FOBEST)\n",
        "    \n",
        "############################## Cálculo dos Parâmetros de Avaliação   \n",
        "TIME = (time.time() - start_time)/RUNS\n",
        "BEST_AGENTS=np.array(BEST_AGENTS)\n",
        "BEST_AGENTS_ST= BEST_AGENTS[BEST_AGENTS[:,-1].argsort()]\n",
        "BEST=BEST_AGENTS_ST[0]\n",
        "WORSE=BEST_AGENTS_ST[-1]\n",
        "MEAN=np.mean(BEST_AGENTS,axis=0)\n",
        "MAXFO=BEST_AGENTS[:,-1].max()\n",
        "MINFO=BEST_AGENTS[:,-1].min()\n",
        "STD=BEST_AGENTS[:,-1].std()"
      ],
      "execution_count": 13,
      "outputs": [
        {
          "output_type": "stream",
          "text": [
            "ite= 0 total=50 time= 6.357828776041667e-06 Fobj= 0.15433988567437174\n",
            "ite= 1 total=50 time= 3.9581235806147257 Fobj= 0.17391619943874237\n",
            "ite= 2 total=50 time= 7.8937501311302185 Fobj= 0.15254406844296425\n",
            "ite= 3 total=50 time= 11.79256401459376 Fobj= 0.21679921886510375\n",
            "ite= 4 total=50 time= 15.706740299860636 Fobj= 0.20270614191563532\n",
            "ite= 5 total=50 time= 19.61345091263453 Fobj= 0.23044342421261388\n",
            "ite= 6 total=50 time= 23.496549932161965 Fobj= 0.15654537771565485\n",
            "ite= 7 total=50 time= 27.350996855894724 Fobj= 0.16837269804343968\n",
            "ite= 8 total=50 time= 31.179256816705067 Fobj= 0.19777351413581706\n",
            "ite= 9 total=50 time= 35.00493559439977 Fobj= 0.17375382000114437\n",
            "ite= 10 total=50 time= 38.82650635242462 Fobj= 0.16352794919987615\n",
            "ite= 11 total=50 time= 42.65258638858795 Fobj= 2.7847387224719386e-07\n",
            "ite= 12 total=50 time= 46.405989674727124 Fobj= 0.15548404377179634\n",
            "ite= 13 total=50 time= 50.241520977020265 Fobj= 0.22884848847770628\n",
            "ite= 14 total=50 time= 54.06101786295573 Fobj= 0.18462835807124697\n",
            "ite= 15 total=50 time= 57.89148232142131 Fobj= 0.16041062232616013\n",
            "ite= 16 total=50 time= 61.716427421569826 Fobj= 0.16288109635008718\n",
            "ite= 17 total=50 time= 65.52877233425777 Fobj= 0.18603598497979218\n",
            "ite= 18 total=50 time= 69.34456432263056 Fobj= 0.23112338833454898\n",
            "ite= 19 total=50 time= 73.15824248393376 Fobj= 0.22584267512126965\n",
            "ite= 20 total=50 time= 76.99815901517869 Fobj= 0.2087362427417907\n",
            "ite= 21 total=50 time= 80.84390483697256 Fobj= 0.1734828962945587\n",
            "ite= 22 total=50 time= 84.67130373716354 Fobj= 0.1917186320661322\n",
            "ite= 23 total=50 time= 88.465594236056 Fobj= 0.20591562410455833\n",
            "ite= 24 total=50 time= 92.27559971014658 Fobj= 0.20028563760597634\n",
            "ite= 25 total=50 time= 96.08041306734086 Fobj= 0.2135273335843046\n",
            "ite= 26 total=50 time= 99.89998860756556 Fobj= 0.17985295900725767\n",
            "ite= 27 total=50 time= 103.69876586993536 Fobj= 0.23347706856720513\n",
            "ite= 28 total=50 time= 107.56627335548401 Fobj= 0.24118338609057433\n",
            "ite= 29 total=50 time= 111.37853712240855 Fobj= 0.23873540611200764\n",
            "ite= 30 total=50 time= 115.19342706600825 Fobj= 0.17404602477742226\n",
            "ite= 31 total=50 time= 119.0043765147527 Fobj= 2.81800188191938e-07\n",
            "ite= 32 total=50 time= 122.80940511226655 Fobj= 0.23619720050578444\n",
            "ite= 33 total=50 time= 126.66540817817052 Fobj= 0.22993379939639771\n",
            "ite= 34 total=50 time= 130.58589251438778 Fobj= 0.2276286726660191\n",
            "ite= 35 total=50 time= 134.4879338979721 Fobj= 0.259508748040986\n",
            "ite= 36 total=50 time= 138.40271940231324 Fobj= 0.2097706748376613\n",
            "ite= 37 total=50 time= 142.28703254461288 Fobj= 0.20269386336906536\n",
            "ite= 38 total=50 time= 146.12014815409978 Fobj= 0.1867146072163544\n",
            "ite= 39 total=50 time= 149.92029441197712 Fobj= 0.24352777773292886\n",
            "ite= 40 total=50 time= 153.72450933059056 Fobj= 0.22871140900757628\n",
            "ite= 41 total=50 time= 157.53197840849558 Fobj= 0.2040204899835283\n",
            "ite= 42 total=50 time= 161.3514373699824 Fobj= 0.18117646026288464\n",
            "ite= 43 total=50 time= 165.1697071234385 Fobj= 0.16329356839596\n",
            "ite= 44 total=50 time= 168.99110954205196 Fobj= 0.18112253935856737\n",
            "ite= 45 total=50 time= 172.8108638048172 Fobj= 2.949947629161123e-07\n",
            "ite= 46 total=50 time= 176.55787276824316 Fobj= 0.21212697548760998\n",
            "ite= 47 total=50 time= 180.3602845430374 Fobj= 0.18385609365880548\n",
            "ite= 48 total=50 time= 184.16276701688767 Fobj= 0.19497390266838932\n",
            "ite= 49 total=50 time= 187.95715940793355 Fobj= 0.15314525471932658\n"
          ],
          "name": "stdout"
        }
      ]
    },
    {
      "cell_type": "code",
      "metadata": {
        "id": "5gDOmRHCygU-",
        "colab_type": "code",
        "colab": {}
      },
      "source": [
        "# print(TOTAL)"
      ],
      "execution_count": 14,
      "outputs": []
    },
    {
      "cell_type": "code",
      "metadata": {
        "id": "k3p9TGsx1OCu",
        "colab_type": "code",
        "colab": {}
      },
      "source": [
        "NOMES=['DIVERSIDADE (DI)',  'DI RELATIVO','FRAC Its',\n",
        "           'VELOC FOBJ','VELOC X','NP','Fo','CRo','fmin','fmax',\n",
        "           'AD_fmin','AD_fmax','DELTA FOBJ','DELTA VX','r_fitness',\n",
        "           'F','CR']\n",
        "# BEST_INDEX= BEST_AGENTS[BEST_AGENTS[:,-1].argmin()]  \n",
        "BEST_INDEX = np.argmin(BEST_AGENTS[:,-1])\n",
        "df=pd.DataFrame(MAT_stat[BEST_INDEX], columns=NOMES)\n",
        "\n"
      ],
      "execution_count": 15,
      "outputs": []
    },
    {
      "cell_type": "code",
      "metadata": {
        "id": "jIHiKR_t1xxs",
        "colab_type": "code",
        "colab": {
          "base_uri": "https://localhost:8080/",
          "height": 711
        },
        "outputId": "7b5e5c40-6ec0-4f32-f4bd-836b00b7c674"
      },
      "source": [
        "pd.set_option('display.max_columns', 30)  \n",
        "print(df)"
      ],
      "execution_count": 16,
      "outputs": [
        {
          "output_type": "stream",
          "text": [
            "      DIVERSIDADE (DI)   DI RELATIVO  FRAC Its  VELOC FOBJ  VELOC X     NP  \\\n",
            "0           316.043899  9.976245e-01  0.000133         0.0      0.0  100.0   \n",
            "1           314.075039  9.914096e-01  0.000267         0.0      0.0  100.0   \n",
            "2           313.045932  9.881612e-01  0.000400         1.0      2.0  100.0   \n",
            "3           311.684561  9.838639e-01  0.000533         0.0      0.0  100.0   \n",
            "4           310.625177  9.805198e-01  0.000667         0.0      0.0  100.0   \n",
            "...                ...           ...       ...         ...      ...    ...   \n",
            "4995          0.000001  3.928819e-09  0.666133         0.0      0.0  100.0   \n",
            "4996          0.000001  3.899718e-09  0.666267         0.0      0.0  100.0   \n",
            "4997          0.000001  3.884679e-09  0.666400         0.0      0.0  100.0   \n",
            "4998          0.000001  3.872132e-09  0.666533         0.0      0.0  100.0   \n",
            "4999          0.000001  3.857322e-09  0.666667         0.0      0.0  100.0   \n",
            "\n",
            "            Fo       CRo          fmin          fmax  AD_fmin  AD_fmax  \\\n",
            "0     0.500000  0.500000  8.376836e+01  9.994161e+01      1.0      1.0   \n",
            "1     0.250594  0.333729  8.376836e+01  9.994161e+01      1.0      1.0   \n",
            "2     0.436925  0.223442  7.236875e+01  9.994161e+01      1.0      1.0   \n",
            "3     0.221049  0.149843  7.236875e+01  9.994161e+01      1.0      1.0   \n",
            "4     0.384160  0.223555  7.236875e+01  9.994161e+01      1.0      1.0   \n",
            "...        ...       ...           ...           ...      ...      ...   \n",
            "4995  0.336337  0.139216  2.784739e-07  6.054144e-07      1.0      1.0   \n",
            "4996  0.336337  0.139216  2.784739e-07  6.054144e-07      1.0      1.0   \n",
            "4997  0.336337  0.139216  2.784739e-07  6.054144e-07      1.0      1.0   \n",
            "4998  0.336337  0.139216  2.784739e-07  6.054144e-07      1.0      1.0   \n",
            "4999  0.336337  0.139216  2.784739e-07  6.054144e-07      1.0      1.0   \n",
            "\n",
            "      DELTA FOBJ  DELTA VX  r_fitness         F        CR  \n",
            "0            0.0       0.0   0.161827  0.250594  0.333729  \n",
            "1            0.0       0.0   0.161827  0.436925  0.223442  \n",
            "2            0.0       0.0   0.275890  0.221049  0.149843  \n",
            "3            0.0       0.0   0.275890  0.384160  0.223555  \n",
            "4            0.0       0.0   0.275890  0.666668  0.150489  \n",
            "...          ...       ...        ...       ...       ...  \n",
            "4995         0.0       0.0   0.540028  0.336337  0.139216  \n",
            "4996         0.0       0.0   0.540028  0.336337  0.139216  \n",
            "4997         0.0       0.0   0.540028  0.336337  0.139216  \n",
            "4998         0.0       0.0   0.540028  0.336337  0.139216  \n",
            "4999         0.0       0.0   0.540028  0.336337  0.139216  \n",
            "\n",
            "[5000 rows x 17 columns]\n"
          ],
          "name": "stdout"
        }
      ]
    },
    {
      "cell_type": "code",
      "metadata": {
        "id": "bx0ywpMtAAjw",
        "colab_type": "code",
        "colab": {
          "base_uri": "https://localhost:8080/",
          "height": 297
        },
        "outputId": "60033c3e-2723-4057-fe7e-b1d3589f2960"
      },
      "source": [
        "plt.plot(df['FRAC Its'],df['CR'])\n",
        "plt.xlabel('Iteração/Total')\n",
        "plt.ylabel('CR')"
      ],
      "execution_count": 17,
      "outputs": [
        {
          "output_type": "execute_result",
          "data": {
            "text/plain": [
              "Text(0, 0.5, 'CR')"
            ]
          },
          "metadata": {
            "tags": []
          },
          "execution_count": 17
        },
        {
          "output_type": "display_data",
          "data": {
            "image/png": "[encoded data removed]",
            "text/plain": [
              "<Figure size 432x288 with 1 Axes>"
            ]
          },
          "metadata": {
            "tags": [],
            "needs_background": "light"
          }
        }
      ]
    },
    {
      "cell_type": "code",
      "metadata": {
        "id": "BvPFvbDvteDC",
        "colab_type": "code",
        "colab": {
          "base_uri": "https://localhost:8080/",
          "height": 295
        },
        "outputId": "32cbb0d1-510b-4167-cfe6-9f3449199d3c"
      },
      "source": [
        "\n",
        "fig, ax = plt.subplots()\n",
        "ax.plot(df['FRAC Its'],df['F'],label='F')\n",
        "ax.set_xlabel('Iteração/Total')\n",
        "ax.set_ylabel('Parâmetros')\n",
        "ax.plot(df['FRAC Its'],df['CR'],'-r', label='CR')\n",
        "nome=Fun.__name__+'  M=Diversidade'+ '  D='+str(dim)\n",
        "ax.set_title(nome)\n",
        "leg = ax.legend()\n"
      ],
      "execution_count": 18,
      "outputs": [
        {
          "output_type": "display_data",
          "data": {
            "image/png": "[encoded data removed]",
            "text/plain": [
              "<Figure size 432x288 with 1 Axes>"
            ]
          },
          "metadata": {
            "tags": [],
            "needs_background": "light"
          }
        }
      ]
    },
    {
      "cell_type": "code",
      "metadata": {
        "id": "htooaGpDia_0",
        "colab_type": "code",
        "colab": {
          "base_uri": "https://localhost:8080/",
          "height": 313
        },
        "outputId": "992f83ea-615f-4cbe-b08e-f57483457d68"
      },
      "source": [
        "f, axarr = plt.subplots(2, sharex=True)\n",
        "axarr[0].plot(df['FRAC Its'],df['F'])\n",
        "axarr[0].set_ylabel('F')\n",
        "axarr[1].plot(df['FRAC Its'],df['CR'])\n",
        "axarr[1].set_ylabel('CR')\n",
        "axarr[1].set_xlabel('Iteração/Total')\n",
        "nome=Fun.__name__+'_Diversidade_'+ 'D='+str(dim)\n",
        "axarr[0].set_title(nome)\n"
      ],
      "execution_count": 19,
      "outputs": [
        {
          "output_type": "execute_result",
          "data": {
            "text/plain": [
              "Text(0.5, 1.0, 'Schwefel_221_Diversidade_D=30')"
            ]
          },
          "metadata": {
            "tags": []
          },
          "execution_count": 19
        },
        {
          "output_type": "display_data",
          "data": {
            "image/png": "[encoded data removed]",
            "text/plain": [
              "<Figure size 432x288 with 2 Axes>"
            ]
          },
          "metadata": {
            "tags": [],
            "needs_background": "light"
          }
        }
      ]
    },
    {
      "cell_type": "code",
      "metadata": {
        "id": "lNSN5X-wskcx",
        "colab_type": "code",
        "colab": {
          "base_uri": "https://localhost:8080/",
          "height": 329
        },
        "outputId": "d774fce9-7d5d-4510-f71a-5e8947ee8c3e"
      },
      "source": [
        "nome='_ANN_Div3x4_Fo-'+str(Fi)+'_CRo-'+str(CRi)+'_D-'+str(dim)+'_Interv-'+str(ITE)\n",
        "print('DE_POP_VAR_F_CR','TOTAL=',TOTAL,'Iterações=',ITE*its,'Dim=', PAR,\"Min/Max=\",MIN[0],\"/\",MAX[0],'_',Fun.__name__)\n",
        "print(nome, '\\n')\n",
        "#print('BEST: ',BEST)\n",
        "#print('MÉDIA: ',MEAN)\n",
        "print('MÉDIA: ',MEAN[-1])\n",
        "print('MIN __:',MINFO)\n",
        "print('MAX__: ',MAXFO)\n",
        "print('STD __:',STD)\n",
        "print(\"Tempo Médio= %.3f segundos ---\" % (TIME))\n",
        "print(RUNS,'Rodadas') \n",
        "print()\n",
        "print('BEST: ',BEST)\n",
        "# print('melhor=',BEST_AGENTS[BEST_INDEX])"
      ],
      "execution_count": 20,
      "outputs": [
        {
          "output_type": "stream",
          "text": [
            "DE_POP_VAR_F_CR TOTAL= 750000 Iterações= 5000 Dim= 30 Min/Max= -100 / 100 _ Schwefel_221\n",
            "_ANN_Div3x4_Fo-0.5_CRo-0.5_D-30_Interv-5000 \n",
            "\n",
            "MÉDIA:  0.1857068211721285\n",
            "MIN __: 2.7847387224719386e-07\n",
            "MAX__:  0.259508748040986\n",
            "STD __: 0.054668546143444574\n",
            "Tempo Médio= 230.095 segundos ---\n",
            "50 Rodadas\n",
            "\n",
            "BEST:  [-1.14894549e-07  1.28921361e-07 -1.45683260e-07  7.34395033e-08\n",
            " -1.33573725e-07 -2.04550547e-07  1.75708072e-07  1.68037658e-08\n",
            " -1.06602389e-07  2.78473872e-07  3.47858779e-08 -1.71237208e-07\n",
            "  2.22371958e-07  2.13414843e-08  1.78225243e-07  2.13351304e-07\n",
            " -2.05669671e-07  2.17978794e-07  2.55163134e-07 -2.97879686e-08\n",
            "  2.30538476e-07  1.27287306e-07  2.93930070e-08  1.00629964e-07\n",
            "  2.63619761e-07 -2.77392547e-08 -2.12889321e-08  3.14783525e-08\n",
            "  1.74123709e-07 -1.02131614e-07  2.78473872e-07]\n"
          ],
          "name": "stdout"
        }
      ]
    },
    {
      "cell_type": "code",
      "metadata": {
        "id": "aPPrDD5-_X6F",
        "colab_type": "code",
        "colab": {}
      },
      "source": [
        ""
      ],
      "execution_count": 20,
      "outputs": []
    }
  ]
}