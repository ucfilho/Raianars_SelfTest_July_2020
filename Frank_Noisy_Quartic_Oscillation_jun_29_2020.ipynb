{
  "nbformat": 4,
  "nbformat_minor": 0,
  "metadata": {
    "colab": {
      "name": "Frank_Noisy_Quartic_Oscillation_jun_29_2020.ipynb",
      "provenance": [],
      "collapsed_sections": [],
      "include_colab_link": true
    },
    "kernelspec": {
      "name": "python3",
      "display_name": "Python 3"
    },
    "language_info": {
      "codemirror_mode": {
        "name": "ipython",
        "version": 3
      },
      "file_extension": ".py",
      "mimetype": "text/x-python",
      "name": "python",
      "nbconvert_exporter": "python",
      "pygments_lexer": "ipython3",
      "version": "3.7.3"
    },
    "accelerator": "GPU"
  },
  "cells": [
    {
      "cell_type": "markdown",
      "metadata": {
        "id": "view-in-github",
        "colab_type": "text"
      },
      "source": [
        "<a href=\"https://colab.research.google.com/github/ucfilho/Raianars_SelfTest_July_2020/blob/master/Frank_Noisy_Quartic_Oscillation_jun_29_2020.ipynb\" target=\"_parent\"><img src=\"https://colab.research.google.com/assets/colab-badge.svg\" alt=\"Open In Colab\"/></a>"
      ]
    },
    {
      "cell_type": "code",
      "metadata": {
        "id": "cG5nOUQ9Eucw",
        "colab_type": "code",
        "colab": {}
      },
      "source": [
        "# Noisy_Quartic\n",
        "# In the paper Ngen=3000\n",
        "# JADE: Adaptive Differential Evolution with Optional External Archive"
      ],
      "execution_count": 1,
      "outputs": []
    },
    {
      "cell_type": "code",
      "metadata": {
        "id": "Va-6Xios8RjU",
        "colab_type": "code",
        "colab": {
          "base_uri": "https://localhost:8080/",
          "height": 156
        },
        "outputId": "5e86e62b-99a2-4eb3-a439-067a0ab01160"
      },
      "source": [
        "!git clone https://github.com/ucfilho/Raianars_paper_One #clonar do Github\n",
        "%cd Raianars_paper_One"
      ],
      "execution_count": 2,
      "outputs": [
        {
          "output_type": "stream",
          "text": [
            "Cloning into 'Raianars_paper_One'...\n",
            "remote: Enumerating objects: 82, done.\u001b[K\n",
            "remote: Counting objects:   1% (1/82)\u001b[K\rremote: Counting objects:   2% (2/82)\u001b[K\rremote: Counting objects:   3% (3/82)\u001b[K\rremote: Counting objects:   4% (4/82)\u001b[K\rremote: Counting objects:   6% (5/82)\u001b[K\rremote: Counting objects:   7% (6/82)\u001b[K\rremote: Counting objects:   8% (7/82)\u001b[K\rremote: Counting objects:   9% (8/82)\u001b[K\rremote: Counting objects:  10% (9/82)\u001b[K\rremote: Counting objects:  12% (10/82)\u001b[K\rremote: Counting objects:  13% (11/82)\u001b[K\rremote: Counting objects:  14% (12/82)\u001b[K\rremote: Counting objects:  15% (13/82)\u001b[K\rremote: Counting objects:  17% (14/82)\u001b[K\rremote: Counting objects:  18% (15/82)\u001b[K\rremote: Counting objects:  19% (16/82)\u001b[K\rremote: Counting objects:  20% (17/82)\u001b[K\rremote: Counting objects:  21% (18/82)\u001b[K\rremote: Counting objects:  23% (19/82)\u001b[K\rremote: Counting objects:  24% (20/82)\u001b[K\rremote: Counting objects:  25% (21/82)\u001b[K\rremote: Counting objects:  26% (22/82)\u001b[K\rremote: Counting objects:  28% (23/82)\u001b[K\rremote: Counting objects:  29% (24/82)\u001b[K\rremote: Counting objects:  30% (25/82)\u001b[K\rremote: Counting objects:  31% (26/82)\u001b[K\rremote: Counting objects:  32% (27/82)\u001b[K\rremote: Counting objects:  34% (28/82)\u001b[K\rremote: Counting objects:  35% (29/82)\u001b[K\rremote: Counting objects:  36% (30/82)\u001b[K\rremote: Counting objects:  37% (31/82)\u001b[K\rremote: Counting objects:  39% (32/82)\u001b[K\rremote: Counting objects:  40% (33/82)\u001b[K\rremote: Counting objects:  41% (34/82)\u001b[K\rremote: Counting objects:  42% (35/82)\u001b[K\rremote: Counting objects:  43% (36/82)\u001b[K\rremote: Counting objects:  45% (37/82)\u001b[K\rremote: Counting objects:  46% (38/82)\u001b[K\rremote: Counting objects:  47% (39/82)\u001b[K\rremote: Counting objects:  48% (40/82)\u001b[K\rremote: Counting objects:  50% (41/82)\u001b[K\rremote: Counting objects:  51% (42/82)\u001b[K\rremote: Counting objects:  52% (43/82)\u001b[K\rremote: Counting objects:  53% (44/82)\u001b[K\rremote: Counting objects:  54% (45/82)\u001b[K\rremote: Counting objects:  56% (46/82)\u001b[K\rremote: Counting objects:  57% (47/82)\u001b[K\rremote: Counting objects:  58% (48/82)\u001b[K\rremote: Counting objects:  59% (49/82)\u001b[K\rremote: Counting objects:  60% (50/82)\u001b[K\rremote: Counting objects:  62% (51/82)\u001b[K\rremote: Counting objects:  63% (52/82)\u001b[K\rremote: Counting objects:  64% (53/82)\u001b[K\rremote: Counting objects:  65% (54/82)\u001b[K\rremote: Counting objects:  67% (55/82)\u001b[K\rremote: Counting objects:  68% (56/82)\u001b[K\rremote: Counting objects:  69% (57/82)\u001b[K\rremote: Counting objects:  70% (58/82)\u001b[K\rremote: Counting objects:  71% (59/82)\u001b[K\rremote: Counting objects:  73% (60/82)\u001b[K\rremote: Counting objects:  74% (61/82)\u001b[K\rremote: Counting objects:  75% (62/82)\u001b[K\rremote: Counting objects:  76% (63/82)\u001b[K\rremote: Counting objects:  78% (64/82)\u001b[K\rremote: Counting objects:  79% (65/82)\u001b[K\rremote: Counting objects:  80% (66/82)\u001b[K\rremote: Counting objects:  81% (67/82)\u001b[K\rremote: Counting objects:  82% (68/82)\u001b[K\rremote: Counting objects:  84% (69/82)\u001b[K\rremote: Counting objects:  85% (70/82)\u001b[K\rremote: Counting objects:  86% (71/82)\u001b[K\rremote: Counting objects:  87% (72/82)\u001b[K\rremote: Counting objects:  89% (73/82)\u001b[K\rremote: Counting objects:  90% (74/82)\u001b[K\rremote: Counting objects:  91% (75/82)\u001b[K\rremote: Counting objects:  92% (76/82)\u001b[K\rremote: Counting objects:  93% (77/82)\u001b[K\rremote: Counting objects:  95% (78/82)\u001b[K\rremote: Counting objects:  96% (79/82)\u001b[K\rremote: Counting objects:  97% (80/82)\u001b[K\rremote: Counting objects:  98% (81/82)\u001b[K\rremote: Counting objects: 100% (82/82)\u001b[K\rremote: Counting objects: 100% (82/82), done.\u001b[K\n",
            "remote: Compressing objects:   1% (1/82)\u001b[K\rremote: Compressing objects:   2% (2/82)\u001b[K\rremote: Compressing objects:   3% (3/82)\u001b[K\rremote: Compressing objects:   4% (4/82)\u001b[K\rremote: Compressing objects:   6% (5/82)\u001b[K\rremote: Compressing objects:   7% (6/82)\u001b[K\rremote: Compressing objects:   8% (7/82)\u001b[K\rremote: Compressing objects:   9% (8/82)\u001b[K\rremote: Compressing objects:  10% (9/82)\u001b[K\rremote: Compressing objects:  12% (10/82)\u001b[K\rremote: Compressing objects:  13% (11/82)\u001b[K\rremote: Compressing objects:  14% (12/82)\u001b[K\rremote: Compressing objects:  15% (13/82)\u001b[K\rremote: Compressing objects:  17% (14/82)\u001b[K\rremote: Compressing objects:  18% (15/82)\u001b[K\rremote: Compressing objects:  19% (16/82)\u001b[K\rremote: Compressing objects:  20% (17/82)\u001b[K\rremote: Compressing objects:  21% (18/82)\u001b[K\rremote: Compressing objects:  23% (19/82)\u001b[K\rremote: Compressing objects:  24% (20/82)\u001b[K\rremote: Compressing objects:  25% (21/82)\u001b[K\rremote: Compressing objects:  26% (22/82)\u001b[K\rremote: Compressing objects:  28% (23/82)\u001b[K\rremote: Compressing objects:  29% (24/82)\u001b[K\rremote: Compressing objects:  30% (25/82)\u001b[K\rremote: Compressing objects:  31% (26/82)\u001b[K\rremote: Compressing objects:  32% (27/82)\u001b[K\rremote: Compressing objects:  34% (28/82)\u001b[K\rremote: Compressing objects:  35% (29/82)\u001b[K\rremote: Compressing objects:  36% (30/82)\u001b[K\rremote: Compressing objects:  37% (31/82)\u001b[K\rremote: Compressing objects:  39% (32/82)\u001b[K\rremote: Compressing objects:  40% (33/82)\u001b[K\rremote: Compressing objects:  41% (34/82)\u001b[K\rremote: Compressing objects:  42% (35/82)\u001b[K\rremote: Compressing objects:  43% (36/82)\u001b[K\rremote: Compressing objects:  45% (37/82)\u001b[K\rremote: Compressing objects:  46% (38/82)\u001b[K\rremote: Compressing objects:  47% (39/82)\u001b[K\rremote: Compressing objects:  48% (40/82)\u001b[K\rremote: Compressing objects:  50% (41/82)\u001b[K\rremote: Compressing objects:  51% (42/82)\u001b[K\rremote: Compressing objects:  52% (43/82)\u001b[K\rremote: Compressing objects:  53% (44/82)\u001b[K\rremote: Compressing objects:  54% (45/82)\u001b[K\rremote: Compressing objects:  56% (46/82)\u001b[K\rremote: Compressing objects:  57% (47/82)\u001b[K\rremote: Compressing objects:  58% (48/82)\u001b[K\rremote: Compressing objects:  59% (49/82)\u001b[K\rremote: Compressing objects:  60% (50/82)\u001b[K\rremote: Compressing objects:  62% (51/82)\u001b[K\rremote: Compressing objects:  63% (52/82)\u001b[K\rremote: Compressing objects:  64% (53/82)\u001b[K\rremote: Compressing objects:  65% (54/82)\u001b[K\rremote: Compressing objects:  67% (55/82)\u001b[K\rremote: Compressing objects:  68% (56/82)\u001b[K\rremote: Compressing objects:  69% (57/82)\u001b[K\rremote: Compressing objects:  70% (58/82)\u001b[K\rremote: Compressing objects:  71% (59/82)\u001b[K\rremote: Compressing objects:  73% (60/82)\u001b[K\rremote: Compressing objects:  74% (61/82)\u001b[K\rremote: Compressing objects:  75% (62/82)\u001b[K\rremote: Compressing objects:  76% (63/82)\u001b[K\rremote: Compressing objects:  78% (64/82)\u001b[K\rremote: Compressing objects:  79% (65/82)\u001b[K\rremote: Compressing objects:  80% (66/82)\u001b[K\rremote: Compressing objects:  81% (67/82)\u001b[K\rremote: Compressing objects:  82% (68/82)\u001b[K\rremote: Compressing objects:  84% (69/82)\u001b[K\rremote: Compressing objects:  85% (70/82)\u001b[K\rremote: Compressing objects:  86% (71/82)\u001b[K\rremote: Compressing objects:  87% (72/82)\u001b[K\rremote: Compressing objects:  89% (73/82)\u001b[K\rremote: Compressing objects:  90% (74/82)\u001b[K\rremote: Compressing objects:  91% (75/82)\u001b[K\rremote: Compressing objects:  92% (76/82)\u001b[K\rremote: Compressing objects:  93% (77/82)\u001b[K\rremote: Compressing objects:  95% (78/82)\u001b[K\rremote: Compressing objects:  96% (79/82)\u001b[K\rremote: Compressing objects:  97% (80/82)\u001b[K\rremote: Compressing objects:  98% (81/82)\u001b[K\rremote: Compressing objects: 100% (82/82)\u001b[K\rremote: Compressing objects: 100% (82/82), done.\u001b[K\n",
            "Receiving objects:   0% (1/211)   \rReceiving objects:   1% (3/211)   \rReceiving objects:   2% (5/211)   \rReceiving objects:   3% (7/211)   \rReceiving objects:   4% (9/211)   \rReceiving objects:   5% (11/211)   \rReceiving objects:   6% (13/211)   \rReceiving objects:   7% (15/211)   \rReceiving objects:   8% (17/211)   \rReceiving objects:   9% (19/211)   \rReceiving objects:  10% (22/211)   \rReceiving objects:  11% (24/211)   \rReceiving objects:  12% (26/211)   \rReceiving objects:  13% (28/211)   \rReceiving objects:  14% (30/211)   \rReceiving objects:  15% (32/211)   \rReceiving objects:  16% (34/211)   \rReceiving objects:  17% (36/211)   \rReceiving objects:  18% (38/211)   \rReceiving objects:  19% (41/211)   \rReceiving objects:  20% (43/211)   \rReceiving objects:  21% (45/211)   \rReceiving objects:  22% (47/211)   \rReceiving objects:  23% (49/211)   \rReceiving objects:  24% (51/211)   \rReceiving objects:  25% (53/211)   \rReceiving objects:  26% (55/211)   \rReceiving objects:  27% (57/211)   \rReceiving objects:  28% (60/211)   \rReceiving objects:  29% (62/211)   \rReceiving objects:  30% (64/211)   \rReceiving objects:  31% (66/211)   \rReceiving objects:  32% (68/211)   \rReceiving objects:  33% (70/211)   \rReceiving objects:  34% (72/211)   \rReceiving objects:  35% (74/211)   \rReceiving objects:  36% (76/211)   \rReceiving objects:  37% (79/211)   \rReceiving objects:  38% (81/211)   \rReceiving objects:  39% (83/211)   \rReceiving objects:  40% (85/211)   \rReceiving objects:  41% (87/211)   \rReceiving objects:  42% (89/211)   \rReceiving objects:  43% (91/211)   \rReceiving objects:  44% (93/211)   \rReceiving objects:  45% (95/211)   \rReceiving objects:  46% (98/211)   \rReceiving objects:  47% (100/211)   \rReceiving objects:  48% (102/211)   \rReceiving objects:  49% (104/211)   \rReceiving objects:  50% (106/211)   \rReceiving objects:  51% (108/211)   \rReceiving objects:  52% (110/211)   \rReceiving objects:  53% (112/211)   \rReceiving objects:  54% (114/211)   \rReceiving objects:  55% (117/211)   \rReceiving objects:  56% (119/211)   \rReceiving objects:  57% (121/211)   \rReceiving objects:  58% (123/211)   \rReceiving objects:  59% (125/211)   \rReceiving objects:  60% (127/211)   \rReceiving objects:  61% (129/211)   \rReceiving objects:  62% (131/211)   \rReceiving objects:  63% (133/211)   \rReceiving objects:  64% (136/211)   \rReceiving objects:  65% (138/211)   \rReceiving objects:  66% (140/211)   \rReceiving objects:  67% (142/211)   \rReceiving objects:  68% (144/211)   \rReceiving objects:  69% (146/211)   \rReceiving objects:  70% (148/211)   \rReceiving objects:  71% (150/211)   \rReceiving objects:  72% (152/211)   \rReceiving objects:  73% (155/211)   \rReceiving objects:  74% (157/211)   \rReceiving objects:  75% (159/211)   \rReceiving objects:  76% (161/211)   \rReceiving objects:  77% (163/211)   \rReceiving objects:  78% (165/211)   \rReceiving objects:  79% (167/211)   \rReceiving objects:  80% (169/211)   \rremote: Total 211 (delta 41), reused 0 (delta 0), pack-reused 129\u001b[K\n",
            "Receiving objects:  81% (171/211)   \rReceiving objects:  82% (174/211)   \rReceiving objects:  83% (176/211)   \rReceiving objects:  84% (178/211)   \rReceiving objects:  85% (180/211)   \rReceiving objects:  86% (182/211)   \rReceiving objects:  87% (184/211)   \rReceiving objects:  88% (186/211)   \rReceiving objects:  89% (188/211)   \rReceiving objects:  90% (190/211)   \rReceiving objects:  91% (193/211)   \rReceiving objects:  92% (195/211)   \rReceiving objects:  93% (197/211)   \rReceiving objects:  94% (199/211)   \rReceiving objects:  95% (201/211)   \rReceiving objects:  96% (203/211)   \rReceiving objects:  97% (205/211)   \rReceiving objects:  98% (207/211)   \rReceiving objects:  99% (209/211)   \rReceiving objects: 100% (211/211)   \rReceiving objects: 100% (211/211), 646.13 KiB | 6.73 MiB/s, done.\n",
            "Resolving deltas:   0% (0/113)   \rResolving deltas:  48% (55/113)   \rResolving deltas:  61% (69/113)   \rResolving deltas:  62% (71/113)   \rResolving deltas:  85% (97/113)   \rResolving deltas:  86% (98/113)   \rResolving deltas:  88% (100/113)   \rResolving deltas:  89% (101/113)   \rResolving deltas:  95% (108/113)   \rResolving deltas:  98% (111/113)   \rResolving deltas: 100% (113/113)   \rResolving deltas: 100% (113/113), done.\n",
            "/content/Raianars_paper_One\n"
          ],
          "name": "stdout"
        }
      ]
    },
    {
      "cell_type": "code",
      "metadata": {
        "id": "_E15mKFURR6O",
        "colab_type": "code",
        "colab": {}
      },
      "source": [
        "import Go2Ann\n",
        "import de_soma_Insight\n",
        "import de_bounds_matriz\n",
        "import Function\n",
        "import Go2MinMax\n",
        "from AvaliaX import AvaliaX\n",
        "from GeraIndices import GeraIndices\n",
        "\n",
        "############################### DADOS DE ENTRADA \n",
        "RUNS=50 #NÚMERO DE RODADAS\n",
        "Fc=0.1 # fator de correcao parametros da ANN\n",
        "its=1 #10 # quantas vezes vai usar o NPAR antes de alterar de novo\n",
        "ITE=3000 #10 # PONTOS quantas vezes vai alteral NPAR \n",
        "RefCont=50 # each 25 iterations return parater to old value\n",
        "mut=0.5\n",
        "crossp=0.5\n",
        "Fi=mut;CRi=crossp;# para impressão\n",
        "\n",
        "############################### Função\n",
        "dim=30\n",
        "NPAR=100\n",
        "#fchoice='Rastrigin' #fchoice='Michalewicz' #fchoice='Schwefel'\n",
        "fchoice='Noisy_Quartic'\n",
        "Fun=Function.Noisy_Quartic\n",
        "\n",
        "MIN,MAX=Go2MinMax.Intervalo(dim,fchoice)\n",
        "PAR=len(MAX) #NUM DE PARAMETROS A SER OTIMIZADOS\n"
      ],
      "execution_count": 3,
      "outputs": []
    },
    {
      "cell_type": "code",
      "metadata": {
        "colab_type": "code",
        "id": "v1OxgXboBKoG",
        "colab": {}
      },
      "source": [
        "import time\n",
        "import matplotlib.pyplot as plt\n",
        "import numpy as np\n",
        "from random import randint\n",
        "from scipy import optimize\n",
        "import pandas as pd\n",
        "from sklearn.metrics import confusion_matrix"
      ],
      "execution_count": 4,
      "outputs": []
    },
    {
      "cell_type": "code",
      "metadata": {
        "id": "qTINtQ1cosZK",
        "colab_type": "code",
        "colab": {
          "base_uri": "https://localhost:8080/",
          "height": 139
        },
        "outputId": "7a1c8164-b9d4-48d4-e4b0-7cb68b57869d"
      },
      "source": [
        "!git clone https://github.com/ucfilho/ANN_read_matrix #clonar do Github\n",
        "%cd ANN_read_matrix"
      ],
      "execution_count": 5,
      "outputs": [
        {
          "output_type": "stream",
          "text": [
            "Cloning into 'ANN_read_matrix'...\n",
            "remote: Enumerating objects: 20, done.\u001b[K\n",
            "remote: Counting objects:   5% (1/20)\u001b[K\rremote: Counting objects:  10% (2/20)\u001b[K\rremote: Counting objects:  15% (3/20)\u001b[K\rremote: Counting objects:  20% (4/20)\u001b[K\rremote: Counting objects:  25% (5/20)\u001b[K\rremote: Counting objects:  30% (6/20)\u001b[K\rremote: Counting objects:  35% (7/20)\u001b[K\rremote: Counting objects:  40% (8/20)\u001b[K\rremote: Counting objects:  45% (9/20)\u001b[K\rremote: Counting objects:  50% (10/20)\u001b[K\rremote: Counting objects:  55% (11/20)\u001b[K\rremote: Counting objects:  60% (12/20)\u001b[K\rremote: Counting objects:  65% (13/20)\u001b[K\rremote: Counting objects:  70% (14/20)\u001b[K\rremote: Counting objects:  75% (15/20)\u001b[K\rremote: Counting objects:  80% (16/20)\u001b[K\rremote: Counting objects:  85% (17/20)\u001b[K\rremote: Counting objects:  90% (18/20)\u001b[K\rremote: Counting objects:  95% (19/20)\u001b[K\rremote: Counting objects: 100% (20/20)\u001b[K\rremote: Counting objects: 100% (20/20), done.\u001b[K\n",
            "remote: Compressing objects:   5% (1/18)\u001b[K\rremote: Compressing objects:  11% (2/18)\u001b[K\rremote: Compressing objects:  16% (3/18)\u001b[K\rremote: Compressing objects:  22% (4/18)\u001b[K\rremote: Compressing objects:  27% (5/18)\u001b[K\rremote: Compressing objects:  33% (6/18)\u001b[K\rremote: Compressing objects:  38% (7/18)\u001b[K\rremote: Compressing objects:  44% (8/18)\u001b[K\rremote: Compressing objects:  50% (9/18)\u001b[K\rremote: Compressing objects:  55% (10/18)\u001b[K\rremote: Compressing objects:  61% (11/18)\u001b[K\rremote: Compressing objects:  66% (12/18)\u001b[K\rremote: Compressing objects:  72% (13/18)\u001b[K\rremote: Compressing objects:  77% (14/18)\u001b[K\rremote: Compressing objects:  83% (15/18)\u001b[K\rremote: Compressing objects:  88% (16/18)\u001b[K\rremote: Compressing objects:  94% (17/18)\u001b[K\rremote: Compressing objects: 100% (18/18)\u001b[K\rremote: Compressing objects: 100% (18/18), done.\u001b[K\n",
            "remote: Total 20 (delta 5), reused 0 (delta 0), pack-reused 0\u001b[K\n",
            "Unpacking objects:   5% (1/20)   \rUnpacking objects:  10% (2/20)   \rUnpacking objects:  15% (3/20)   \rUnpacking objects:  20% (4/20)   \rUnpacking objects:  25% (5/20)   \rUnpacking objects:  30% (6/20)   \rUnpacking objects:  35% (7/20)   \rUnpacking objects:  40% (8/20)   \rUnpacking objects:  45% (9/20)   \rUnpacking objects:  50% (10/20)   \rUnpacking objects:  55% (11/20)   \rUnpacking objects:  60% (12/20)   \rUnpacking objects:  65% (13/20)   \rUnpacking objects:  70% (14/20)   \rUnpacking objects:  75% (15/20)   \rUnpacking objects:  80% (16/20)   \rUnpacking objects:  85% (17/20)   \rUnpacking objects:  90% (18/20)   \rUnpacking objects:  95% (19/20)   \rUnpacking objects: 100% (20/20)   \rUnpacking objects: 100% (20/20), done.\n",
            "/content/Raianars_paper_One/ANN_read_matrix\n"
          ],
          "name": "stdout"
        }
      ]
    },
    {
      "cell_type": "code",
      "metadata": {
        "id": "QiQLYOoNoyCw",
        "colab_type": "code",
        "colab": {}
      },
      "source": [
        "ANN_F=pd.read_csv('ANN_INSIGHT_Valor_F.csv')"
      ],
      "execution_count": 6,
      "outputs": []
    },
    {
      "cell_type": "code",
      "metadata": {
        "id": "uHtW2amaDzFv",
        "colab_type": "code",
        "colab": {}
      },
      "source": [
        "ANN_CR=pd.read_csv('ANN_INSIGHT_CR.csv')"
      ],
      "execution_count": 7,
      "outputs": []
    },
    {
      "cell_type": "code",
      "metadata": {
        "id": "EH6h_vke2yu1",
        "colab_type": "code",
        "colab": {}
      },
      "source": [
        "syn0_F,syn1_F,X_max_F,X_min_F=Go2Ann.GetMatriz(ANN_F)"
      ],
      "execution_count": 8,
      "outputs": []
    },
    {
      "cell_type": "code",
      "metadata": {
        "id": "WW_3ZWJXD60i",
        "colab_type": "code",
        "colab": {}
      },
      "source": [
        "syn0_CR,syn1_CR,X_max_CR,X_min_CR=Go2Ann.GetMatriz(ANN_CR)"
      ],
      "execution_count": 9,
      "outputs": []
    },
    {
      "cell_type": "code",
      "metadata": {
        "id": "b4gwBvVTyaXh",
        "colab_type": "code",
        "colab": {}
      },
      "source": [
        "ANN_CR=pd.read_csv('ANN_INSIGHT_CR.csv')"
      ],
      "execution_count": 10,
      "outputs": []
    },
    {
      "cell_type": "code",
      "metadata": {
        "id": "6jL8MxpHvk-Y",
        "colab_type": "code",
        "colab": {}
      },
      "source": [
        "fields = ['DI RELATIVO','FRAC Its','Fo','CRo']"
      ],
      "execution_count": 11,
      "outputs": []
    },
    {
      "cell_type": "code",
      "metadata": {
        "id": "Mb3LmbSmj9v7",
        "colab_type": "code",
        "colab": {}
      },
      "source": [
        "##################################### \n",
        "\n",
        "#TOTAL=7*dim*its*ITE\n",
        "TOTAL=10*dim*its*ITE\n",
        "TOTAL=int(TOTAL/2)   # CONFERIR SE ESTE EH O MELHOR LUGAR\n",
        "\n",
        "dimensions=len(MAX)\n",
        "start_time = time.time() #INICIALIZA CONTAGEM DO TEMPO\n",
        "\n",
        "\n",
        "\n",
        "MAX_P=np.zeros(ITE) # ATENCAO para variar F e Cr MAX_P passa a ser 3 vezes maior\n",
        "MIN_P=np.zeros(ITE) # ATENCAO para variar F e Cr MIN_P passa a ser 3 vezes maior\n",
        "\n",
        "for i in range(dim):\n",
        "  MAX_P[i]=MAX[i] \n",
        "  MIN_P[i]=MIN[i]\n",
        "\n",
        "rodadas=1\n",
        "for i in range(rodadas):\n",
        "  SOMA=0\n",
        "  pop = np.random.rand(NPAR, dimensions)\n",
        "  diff=np.zeros(PAR)\n",
        "  for ii in range(PAR):\n",
        "    diff[ii] = MAX[ii]-MIN[ii]\n",
        "  X = MIN + pop * diff\n",
        "    \n",
        "  PONTOS=ITE # DIVISOES DA POPULACAO\n",
        " \n",
        " \n"
      ],
      "execution_count": 12,
      "outputs": []
    },
    {
      "cell_type": "code",
      "metadata": {
        "id": "rnX8ttNopd1G",
        "colab_type": "code",
        "colab": {
          "base_uri": "https://localhost:8080/",
          "height": 884
        },
        "outputId": "f7ebfa4b-f38d-4a10-aeb1-0316af354278"
      },
      "source": [
        "#NPAR=int(NPAR/2)\n",
        "start_time = time.time()\n",
        "BEST_AGENTS=[]\n",
        "MAT_stat=[]\n",
        "for i in range(RUNS):\n",
        "    MAT=[] \n",
        "    mut=Fi\n",
        "    crossp=CRi\n",
        "    SOMA=0\n",
        "    SOMAf=0\n",
        "    start_ite = time.time()\n",
        "    delta_time=(start_ite-start_time)/60\n",
        "    pop = np.random.rand(NPAR, dim)\n",
        "    diff=np.zeros(PAR)\n",
        "    for ii in range(PAR):\n",
        "      diff[ii] = MAX[ii]-MIN[ii]\n",
        "    X = MIN + pop * diff\n",
        "    Xf = MIN + pop * diff\n",
        "    \n",
        "    DIo=1e99\n",
        "  \n",
        "    CRo=crossp;Fo=mut;\n",
        "    Fitness = np.asarray([Fun(ind) for ind in X])\n",
        "\n",
        "    XY,BEST_XY,BESTo,FOBESTo=AvaliaX(X,Fitness)\n",
        "    nrow,ncol=X.shape\n",
        "\n",
        "    QUANT=17;MAT_INDo=np.zeros((1,QUANT)); # quantos indices esta fazendo\n",
        "    MAT_INDo[0,5]=nrow  # VALOR NP\n",
        "    MAT_INDo[0,6]=Fo    # VALOR Fo   \n",
        "    MAT_INDo[0,7]=CRo   # VALOR CRo\n",
        "  \n",
        "    MAT_INDo=GeraIndices(X,BESTo,FOBESTo,DIo,MAT_INDo,SOMA,TOTAL,syn0_F,\n",
        "                        syn1_F,X_max_F,X_min_F,syn0_CR,syn1_CR,X_max_CR,\n",
        "                        X_min_CR,Fc,fields,Fun)\n",
        "  \n",
        "    DIo=np.copy(MAT_INDo[0,0])\n",
        "    MAT_INDo[0,15]=Fo    # VALOR Fo   \n",
        "    MAT_INDo[0,16]=CRo   # VALOR CRo\n",
        "    #ind_crossp=ITE-1\n",
        "\n",
        "    \n",
        "    for k in range(ITE):\n",
        "      X,BEST,FOBEST,XY,BEST_XY,SOMA= de_soma_Insight.de(MAX,MIN, mut, crossp,NPAR,its,Fun,X,SOMA,TOTAL)\n",
        "      #Xf,BESTf,FOBESTf,XYf,BEST_XYf,SOMAf= de_soma_Insight.de(MAX,MIN, Fi, CRi, NPAR,its,Fun,Xf,SOMAf,TOTAL)\n",
        "\n",
        "      \n",
        "      MAT_IND=GeraIndices(X,BESTo,FOBESTo,DIo,MAT_INDo,SOMA,TOTAL,syn0_F,\n",
        "                          syn1_F,X_max_F,X_min_F,syn0_CR,syn1_CR,X_max_CR,\n",
        "                          X_min_CR,Fc,fields,Fun)\n",
        "    \n",
        "      BESTo=np.copy(BEST);FOBESTo=np.copy(FOBEST);\n",
        "      MAT.append(MAT_IND.ravel())\n",
        "    \n",
        "      MAT_INDo[0,6]=MAT_IND[0,15]   # VALOR Fo   \n",
        "      MAT_INDo[0,7]=MAT_IND[0,16]   # VALOR CRo\n",
        "      mut=MAT_IND[0,15]\n",
        "      crossp=MAT_IND[0,16]\n",
        "\n",
        "      Fitness = np.asarray([Fun(ind) for ind in X])\n",
        "      #Fitnessf = np.asarray([Fun(ind) for ind in Xf])\n",
        "      Maior=np.argmax(Fitness)\n",
        "      #Maiorf=np.argmax(Fitnessf)\n",
        "      Menor=np.argmin(Fitness)\n",
        "      \n",
        "      if (((k+1)% RefCont) == 0):\n",
        "        mut=0.5\n",
        "        crossp=0.5\n",
        "        MAT_IND[0,15]=mut # value of mut\n",
        "        MAT_IND[0,16]=crossp # value of crossp\n",
        "\n",
        "    print('RUN=',i,'total=50','time=',delta_time,'FOBJ=',FOBEST)\n",
        "    BEST_AGENTS.append(BEST_XY)\n",
        "    MAT_stat.append(MAT)\n",
        "    #print(\"GlobalParam e Solucao:\", BEST,\"Funcao=\",FOBEST)\n",
        "    \n",
        "############################## Cálculo dos Parâmetros de Avaliação   \n",
        "TIME = (time.time() - start_time)/RUNS\n",
        "BEST_AGENTS=np.array(BEST_AGENTS)\n",
        "BEST_AGENTS_ST= BEST_AGENTS[BEST_AGENTS[:,-1].argsort()]\n",
        "BEST=BEST_AGENTS_ST[0]\n",
        "WORSE=BEST_AGENTS_ST[-1]\n",
        "MEAN=np.mean(BEST_AGENTS,axis=0)\n",
        "MAXFO=BEST_AGENTS[:,-1].max()\n",
        "MINFO=BEST_AGENTS[:,-1].min()\n",
        "STD=BEST_AGENTS[:,-1].std()"
      ],
      "execution_count": 13,
      "outputs": [
        {
          "output_type": "stream",
          "text": [
            "RUN= 0 total=50 time= 6.88632329305013e-06 FOBJ= 0.13546773977302062\n",
            "RUN= 1 total=50 time= 3.7633376479148866 FOBJ= 0.09781999129784781\n",
            "RUN= 2 total=50 time= 7.518219264348348 FOBJ= 0.1918837204316989\n",
            "RUN= 3 total=50 time= 11.30189318259557 FOBJ= 0.15181720222674433\n",
            "RUN= 4 total=50 time= 15.091740568478903 FOBJ= 0.14511382074566964\n",
            "RUN= 5 total=50 time= 18.845321834087372 FOBJ= 0.15418008873233646\n",
            "RUN= 6 total=50 time= 22.580083513259886 FOBJ= 0.146302510401692\n",
            "RUN= 7 total=50 time= 26.33753184080124 FOBJ= 0.1346658620866748\n",
            "RUN= 8 total=50 time= 30.080221923192344 FOBJ= 0.10133266163595192\n",
            "RUN= 9 total=50 time= 33.77850300868352 FOBJ= 0.2631676528894942\n",
            "RUN= 10 total=50 time= 37.425331417719526 FOBJ= 0.14357944356812946\n",
            "RUN= 11 total=50 time= 41.047564045588175 FOBJ= 0.17450344098810602\n",
            "RUN= 12 total=50 time= 44.68440947930018 FOBJ= 0.14412801849757137\n",
            "RUN= 13 total=50 time= 48.31208209196726 FOBJ= 0.1257090245080374\n",
            "RUN= 14 total=50 time= 51.994482497374214 FOBJ= 0.14432677740542996\n",
            "RUN= 15 total=50 time= 55.718425746758776 FOBJ= 0.1991524940116195\n",
            "RUN= 16 total=50 time= 59.47008940378825 FOBJ= 0.14731042444850362\n",
            "RUN= 17 total=50 time= 63.25047189791997 FOBJ= 0.12840637546739161\n",
            "RUN= 18 total=50 time= 67.17758326133092 FOBJ= 0.10557742618601045\n",
            "RUN= 19 total=50 time= 71.09455400307974 FOBJ= 0.15223334733480573\n",
            "RUN= 20 total=50 time= 75.01604826847712 FOBJ= 0.13720567158088537\n",
            "RUN= 21 total=50 time= 78.99703423976898 FOBJ= 0.1937310807770516\n",
            "RUN= 22 total=50 time= 83.0310263355573 FOBJ= 0.10112675640452544\n",
            "RUN= 23 total=50 time= 86.97092373768488 FOBJ= 0.17978531450411883\n",
            "RUN= 24 total=50 time= 91.00812075535457 FOBJ= 0.14071825511367247\n",
            "RUN= 25 total=50 time= 94.96181187629699 FOBJ= 0.13814663639434566\n",
            "RUN= 26 total=50 time= 98.9941083351771 FOBJ= 0.17043316958177682\n",
            "RUN= 27 total=50 time= 102.94033977190654 FOBJ= 0.08728240231676736\n",
            "RUN= 28 total=50 time= 106.96350424289703 FOBJ= 0.14428726283502918\n",
            "RUN= 29 total=50 time= 110.91030971209209 FOBJ= 0.20983015420889845\n",
            "RUN= 30 total=50 time= 114.84250111977259 FOBJ= 0.18594089260628058\n",
            "RUN= 31 total=50 time= 118.90096838871638 FOBJ= 0.15275008786591898\n",
            "RUN= 32 total=50 time= 122.8090213060379 FOBJ= 0.11921705965248029\n",
            "RUN= 33 total=50 time= 126.76441430250803 FOBJ= 0.15966343035815475\n",
            "RUN= 34 total=50 time= 130.71593391895294 FOBJ= 0.15068075341558082\n",
            "RUN= 35 total=50 time= 134.6470984697342 FOBJ= 0.13937177511205423\n",
            "RUN= 36 total=50 time= 138.5511570851008 FOBJ= 0.1455699060955149\n",
            "RUN= 37 total=50 time= 142.5575980345408 FOBJ= 0.13046921488120158\n",
            "RUN= 38 total=50 time= 146.52088021437328 FOBJ= 0.18877384970449076\n",
            "RUN= 39 total=50 time= 150.54006186326345 FOBJ= 0.07403748244553186\n",
            "RUN= 40 total=50 time= 154.51030523777007 FOBJ= 0.11065912271792668\n",
            "RUN= 41 total=50 time= 158.5546746969223 FOBJ= 0.1971558392708639\n",
            "RUN= 42 total=50 time= 162.460966360569 FOBJ= 0.19914093415091327\n",
            "RUN= 43 total=50 time= 166.4530636469523 FOBJ= 0.12132152422614782\n",
            "RUN= 44 total=50 time= 170.3418644507726 FOBJ= 0.27147901315092116\n",
            "RUN= 45 total=50 time= 174.3823501388232 FOBJ= 0.16088019956856367\n",
            "RUN= 46 total=50 time= 178.29616341193517 FOBJ= 0.1309577593850069\n",
            "RUN= 47 total=50 time= 182.29114665985108 FOBJ= 0.10103050306264794\n",
            "RUN= 48 total=50 time= 186.24290234645207 FOBJ= 0.058776458483675936\n",
            "RUN= 49 total=50 time= 190.23316270510355 FOBJ= 0.1286900711154778\n"
          ],
          "name": "stdout"
        }
      ]
    },
    {
      "cell_type": "code",
      "metadata": {
        "id": "5gDOmRHCygU-",
        "colab_type": "code",
        "colab": {}
      },
      "source": [
        "# print(TOTAL)"
      ],
      "execution_count": 14,
      "outputs": []
    },
    {
      "cell_type": "code",
      "metadata": {
        "id": "k3p9TGsx1OCu",
        "colab_type": "code",
        "colab": {}
      },
      "source": [
        "NOMES=['DIVERSIDADE (DI)',  'DI RELATIVO','FRAC Its',\n",
        "           'VELOC FOBJ','VELOC X','NP','Fo','CRo','fmin','fmax',\n",
        "           'AD_fmin','AD_fmax','DELTA FOBJ','DELTA VX','r_fitness',\n",
        "           'F','CR']\n",
        "# BEST_INDEX= BEST_AGENTS[BEST_AGENTS[:,-1].argmin()]  \n",
        "BEST_INDEX = np.argmin(BEST_AGENTS[:,-1])\n",
        "df=pd.DataFrame(MAT_stat[BEST_INDEX], columns=NOMES)\n",
        "\n"
      ],
      "execution_count": 15,
      "outputs": []
    },
    {
      "cell_type": "code",
      "metadata": {
        "id": "jIHiKR_t1xxs",
        "colab_type": "code",
        "colab": {
          "base_uri": "https://localhost:8080/",
          "height": 711
        },
        "outputId": "03ff453d-4d9a-4ddb-f576-01795f61c738"
      },
      "source": [
        "pd.set_option('display.max_columns', 30)  \n",
        "print(df)"
      ],
      "execution_count": 16,
      "outputs": [
        {
          "output_type": "stream",
          "text": [
            "      DIVERSIDADE (DI)  DI RELATIVO  FRAC Its  VELOC FOBJ  VELOC X     NP  \\\n",
            "0             3.992766     0.983623  0.000222         1.0      0.0  100.0   \n",
            "1             3.941145     0.970906  0.000444         1.0      0.0  100.0   \n",
            "2             3.908492     0.962862  0.000667         1.0      0.0  100.0   \n",
            "3             3.852627     0.949099  0.000889         1.0      2.0  100.0   \n",
            "4             3.809454     0.938464  0.001111         1.0      0.0  100.0   \n",
            "...                ...          ...       ...         ...      ...    ...   \n",
            "2995          0.652462     0.160735  0.665778         1.0      2.0  100.0   \n",
            "2996          0.650365     0.160218  0.666000         1.0      2.0  100.0   \n",
            "2997          0.648933     0.159865  0.666222         1.0      2.0  100.0   \n",
            "2998          0.650259     0.160192  0.666444         1.0      2.0  100.0   \n",
            "2999          0.647182     0.159434  0.666667         2.0      2.0  100.0   \n",
            "\n",
            "            Fo       CRo       fmin        fmax  AD_fmin  AD_fmax  DELTA FOBJ  \\\n",
            "0     0.500000  0.500000  98.297146  473.341160      1.0      1.0         0.0   \n",
            "1     0.254094  0.336063  97.911421  414.037153      1.0      1.0         0.0   \n",
            "2     0.439121  0.227301  98.736078  394.528995      1.0      1.0         0.0   \n",
            "3     0.227714  0.154348  92.672428  379.664370      1.0      1.0         0.0   \n",
            "4     0.389807  0.227594  92.989659  374.019273      1.0      1.0         0.0   \n",
            "...        ...       ...        ...         ...      ...      ...         ...   \n",
            "2995  0.171089  0.000020   0.147761    1.622199      1.0      1.0         0.0   \n",
            "2996  0.191714  0.000019   0.223104    1.534730      1.0      1.0         0.0   \n",
            "2997  0.214751  0.000020   0.191426    1.489597      1.0      1.0         0.0   \n",
            "2998  0.180420  0.000020   0.178481    1.468976      1.0      1.0         0.0   \n",
            "2999  0.202096  0.000019   0.076944    1.459414      1.0      1.0         0.0   \n",
            "\n",
            "      DELTA VX  r_fitness         F        CR  \n",
            "0          0.0   0.792333  0.254094  0.336063  \n",
            "1          0.0   0.763520  0.439121  0.227301  \n",
            "2          0.0   0.749737  0.227714  0.154348  \n",
            "3          0.0   0.755910  0.389807  0.227594  \n",
            "4          0.0   0.751377  0.664172  0.156398  \n",
            "...        ...        ...       ...       ...  \n",
            "2995       0.0   0.908913  0.191714  0.000019  \n",
            "2996       0.0   0.854630  0.214751  0.000020  \n",
            "2997       0.0   0.871491  0.180420  0.000020  \n",
            "2998       0.0   0.878500  0.202096  0.000019  \n",
            "2999       0.0   0.947277  0.500000  0.500000  \n",
            "\n",
            "[3000 rows x 17 columns]\n"
          ],
          "name": "stdout"
        }
      ]
    },
    {
      "cell_type": "code",
      "metadata": {
        "id": "bx0ywpMtAAjw",
        "colab_type": "code",
        "colab": {
          "base_uri": "https://localhost:8080/",
          "height": 297
        },
        "outputId": "bfbbf9fb-48a2-4bdf-c3d0-c5dbc2178196"
      },
      "source": [
        "plt.plot(df['FRAC Its'],df['CR'])\n",
        "plt.xlabel('Iteração/Total')\n",
        "plt.ylabel('CR')"
      ],
      "execution_count": 17,
      "outputs": [
        {
          "output_type": "execute_result",
          "data": {
            "text/plain": [
              "Text(0, 0.5, 'CR')"
            ]
          },
          "metadata": {
            "tags": []
          },
          "execution_count": 17
        },
        {
          "output_type": "display_data",
          "data": {
            "image/png": "[encoded data removed]",
            "text/plain": [
              "<Figure size 432x288 with 1 Axes>"
            ]
          },
          "metadata": {
            "tags": [],
            "needs_background": "light"
          }
        }
      ]
    },
    {
      "cell_type": "code",
      "metadata": {
        "id": "BvPFvbDvteDC",
        "colab_type": "code",
        "colab": {
          "base_uri": "https://localhost:8080/",
          "height": 295
        },
        "outputId": "681f2fe8-f10c-4060-c76b-8e084bb102e6"
      },
      "source": [
        "\n",
        "fig, ax = plt.subplots()\n",
        "ax.plot(df['FRAC Its'],df['F'],label='F')\n",
        "ax.set_xlabel('Iteração/Total')\n",
        "ax.set_ylabel('Parâmetros')\n",
        "ax.plot(df['FRAC Its'],df['CR'],'-r', label='CR')\n",
        "nome=Fun.__name__+'  M=Diversidade'+ '  D='+str(dim)\n",
        "ax.set_title(nome)\n",
        "leg = ax.legend()\n"
      ],
      "execution_count": 18,
      "outputs": [
        {
          "output_type": "display_data",
          "data": {
            "image/png": "[encoded data removed]",
            "text/plain": [
              "<Figure size 432x288 with 1 Axes>"
            ]
          },
          "metadata": {
            "tags": [],
            "needs_background": "light"
          }
        }
      ]
    },
    {
      "cell_type": "code",
      "metadata": {
        "id": "htooaGpDia_0",
        "colab_type": "code",
        "colab": {
          "base_uri": "https://localhost:8080/",
          "height": 313
        },
        "outputId": "59ae9a4b-bdfe-4122-ef16-e3ef523d02e2"
      },
      "source": [
        "f, axarr = plt.subplots(2, sharex=True)\n",
        "axarr[0].plot(df['FRAC Its'],df['F'])\n",
        "axarr[0].set_ylabel('F')\n",
        "axarr[1].plot(df['FRAC Its'],df['CR'])\n",
        "axarr[1].set_ylabel('CR')\n",
        "axarr[1].set_xlabel('Iteração/Total')\n",
        "nome=Fun.__name__+'_Diversidade_'+ 'D='+str(dim)\n",
        "axarr[0].set_title(nome)\n"
      ],
      "execution_count": 19,
      "outputs": [
        {
          "output_type": "execute_result",
          "data": {
            "text/plain": [
              "Text(0.5, 1.0, 'Noisy_Quartic_Diversidade_D=30')"
            ]
          },
          "metadata": {
            "tags": []
          },
          "execution_count": 19
        },
        {
          "output_type": "display_data",
          "data": {
            "image/png": "[encoded data removed]",
            "text/plain": [
              "<Figure size 432x288 with 2 Axes>"
            ]
          },
          "metadata": {
            "tags": [],
            "needs_background": "light"
          }
        }
      ]
    },
    {
      "cell_type": "code",
      "metadata": {
        "id": "lNSN5X-wskcx",
        "colab_type": "code",
        "colab": {
          "base_uri": "https://localhost:8080/",
          "height": 295
        },
        "outputId": "469ff970-cc25-4677-cd91-4019df4e6d8c"
      },
      "source": [
        "nome='_ANN_Div3x4_Fo-'+str(Fi)+'_CRo-'+str(CRi)+'_D-'+str(dim)+'_Interv-'+str(ITE)\n",
        "print('DE_POP_VAR_F_CR','TOTAL=',TOTAL,'Iterações=',ITE*its,'Dim=', PAR,\"Min/Max=\",MIN[0],\"/\",MAX[0],'_',Fun.__name__)\n",
        "print(nome, '\\n')\n",
        "#print('BEST: ',BEST)\n",
        "#print('MÉDIA: ',MEAN)\n",
        "print('MÉDIA: ',MEAN[-1])\n",
        "print('MIN __:',MINFO)\n",
        "print('MAX__: ',MAXFO)\n",
        "print('STD __:',STD)\n",
        "print(\"Tempo Médio= %.3f segundos ---\" % (TIME))\n",
        "print(RUNS,'Rodadas') \n",
        "print()\n",
        "print('BEST: ',BEST)\n",
        "# print('melhor=',BEST_AGENTS[BEST_INDEX])"
      ],
      "execution_count": 20,
      "outputs": [
        {
          "output_type": "stream",
          "text": [
            "DE_POP_VAR_F_CR TOTAL= 450000 Iterações= 3000 Dim= 30 Min/Max= -1.28 / 1.28 _ Noisy_Quartic\n",
            "_ANN_Div3x4_Fo-0.5_CRo-0.5_D-30_Interv-3000 \n",
            "\n",
            "MÉDIA:  0.14831581207246322\n",
            "MIN __: 0.058776458483675936\n",
            "MAX__:  0.27147901315092116\n",
            "STD __: 0.04080990323654605\n",
            "Tempo Médio= 232.986 segundos ---\n",
            "50 Rodadas\n",
            "\n",
            "BEST:  [ 0.13896511  0.15752711  0.03594776 -0.18125785 -0.02076087  0.06632417\n",
            " -0.14160759 -0.00486155  0.04625587 -0.00410118  0.09077887 -0.01918388\n",
            " -0.05789016  0.10454227 -0.04735522  0.03560304 -0.02712645 -0.1429397\n",
            " -0.07582544 -0.18581527 -0.06082088  0.0547204   0.05128232 -0.06634164\n",
            " -0.05188629 -0.03438597  0.10160172  0.01784851  0.04796315  0.02227333\n",
            "  0.05877646]\n"
          ],
          "name": "stdout"
        }
      ]
    },
    {
      "cell_type": "code",
      "metadata": {
        "id": "aPPrDD5-_X6F",
        "colab_type": "code",
        "colab": {}
      },
      "source": [
        ""
      ],
      "execution_count": 20,
      "outputs": []
    }
  ]
}