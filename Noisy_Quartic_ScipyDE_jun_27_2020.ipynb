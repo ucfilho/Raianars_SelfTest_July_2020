{
  "nbformat": 4,
  "nbformat_minor": 0,
  "metadata": {
    "colab": {
      "name": "Noisy_Quartic_ScipyDE_jun_27_2020.ipynb",
      "provenance": [],
      "collapsed_sections": [],
      "authorship_tag": "ABX9TyPjoQnXPbSb8ct2YkQeYjE1",
      "include_colab_link": true
    },
    "kernelspec": {
      "name": "python3",
      "display_name": "Python 3"
    }
  },
  "cells": [
    {
      "cell_type": "markdown",
      "metadata": {
        "id": "view-in-github",
        "colab_type": "text"
      },
      "source": [
        "<a href=\"https://colab.research.google.com/github/ucfilho/Raianars_SelfTest_July_2020/blob/master/Noisy_Quartic_ScipyDE_jun_27_2020.ipynb\" target=\"_parent\"><img src=\"https://colab.research.google.com/assets/colab-badge.svg\" alt=\"Open In Colab\"/></a>"
      ]
    },
    {
      "cell_type": "code",
      "metadata": {
        "id": "Es8PhSUedYDe",
        "colab_type": "code",
        "colab": {}
      },
      "source": [
        "import numpy as np\n",
        "from scipy.optimize import differential_evolution"
      ],
      "execution_count": null,
      "outputs": []
    },
    {
      "cell_type": "code",
      "metadata": {
        "id": "FRAi1AGzdeYk",
        "colab_type": "code",
        "colab": {
          "base_uri": "https://localhost:8080/",
          "height": 145
        },
        "outputId": "e64c0d49-4e6d-4f95-8dd4-03cac57f0401"
      },
      "source": [
        "!git clone https://github.com/ucfilho/Raianars_July_2020 #clonar do Github\n",
        "%cd Raianars_July_2020"
      ],
      "execution_count": null,
      "outputs": [
        {
          "output_type": "stream",
          "text": [
            "Cloning into 'Raianars_July_2020'...\n",
            "remote: Enumerating objects: 36, done.\u001b[K\n",
            "remote: Counting objects: 100% (36/36), done.\u001b[K\n",
            "remote: Compressing objects: 100% (34/34), done.\u001b[K\n",
            "remote: Total 36 (delta 12), reused 0 (delta 0), pack-reused 0\u001b[K\n",
            "Unpacking objects: 100% (36/36), done.\n",
            "/content/Raianars_July_2020\n"
          ],
          "name": "stdout"
        }
      ]
    },
    {
      "cell_type": "code",
      "metadata": {
        "id": "WPP0AwDbdk4p",
        "colab_type": "code",
        "colab": {}
      },
      "source": [
        "import Function\n",
        "import Go2MinMax"
      ],
      "execution_count": null,
      "outputs": []
    },
    {
      "cell_type": "code",
      "metadata": {
        "id": "aainD4FVhQhu",
        "colab_type": "code",
        "colab": {}
      },
      "source": [
        "\n",
        "dim=30\n",
        "NPAR=3000\n",
        "fchoice='Noisy_Quartic'\n",
        "Fun=Function.Noisy_Quartic\n",
        "\n",
        "MIN,MAX=Go2MinMax.Intervalo(dim,fchoice)\n",
        "bounds = [(0,0)]*dim\n",
        "\n",
        "for i in range(dim):\n",
        "  bounds[i] = (MIN[i],MAX[i])"
      ],
      "execution_count": null,
      "outputs": []
    },
    {
      "cell_type": "code",
      "metadata": {
        "id": "4nlypEzsd8z4",
        "colab_type": "code",
        "colab": {}
      },
      "source": [
        "#print(bounds)"
      ],
      "execution_count": null,
      "outputs": []
    },
    {
      "cell_type": "code",
      "metadata": {
        "id": "9HptqkymeGLG",
        "colab_type": "code",
        "colab": {
          "base_uri": "https://localhost:8080/",
          "height": 108
        },
        "outputId": "b11f92f3-1ba5-456e-c9ed-d5a19ccc33ca"
      },
      "source": [
        "result = differential_evolution(Fun, bounds, maxiter=NPAR, popsize=100)\n",
        "print(result.x, result.fun)"
      ],
      "execution_count": null,
      "outputs": [
        {
          "output_type": "stream",
          "text": [
            "[-0.04153367  0.12603754 -0.07580964  0.02644064 -0.07357525  0.04609147\n",
            " -0.03847508 -0.00298051  0.02009247 -0.02834801  0.00563116  0.01399249\n",
            "  0.00441918  0.01050581  0.02655081 -0.01651702  0.0402848  -0.03455518\n",
            "  0.0030594  -0.02478268 -0.01739023 -0.00448344  0.03252585 -0.00750538\n",
            " -0.01929989  0.01674255 -0.02200084 -0.02688938 -0.04238232 -0.03764023] 0.0011779720874388652\n"
          ],
          "name": "stdout"
        }
      ]
    },
    {
      "cell_type": "code",
      "metadata": {
        "id": "s8eOhF9tgGNn",
        "colab_type": "code",
        "colab": {
          "base_uri": "https://localhost:8080/",
          "height": 108
        },
        "outputId": "8f457103-597d-4291-ae7c-639faba844c6"
      },
      "source": [
        "result = differential_evolution(Fun, bounds, maxiter=NPAR, popsize=100)\n",
        "print(result.x, result.fun)"
      ],
      "execution_count": null,
      "outputs": [
        {
          "output_type": "stream",
          "text": [
            "[ 0.12085108 -0.03906041 -0.02622659 -0.00626614 -0.04898092  0.07280544\n",
            "  0.03277386 -0.05508466  0.04352843 -0.01039368 -0.00405085 -0.03651557\n",
            "  0.01839077 -0.0113397  -0.01553226  0.02466135 -0.03338129 -0.01911014\n",
            "  0.05277652 -0.02143959  0.04133151  0.0382206   0.03181578 -0.02651348\n",
            "  0.02248566 -0.03303513 -0.03372855  0.01336286  0.01388957  0.02658186] 0.0009727667962107656\n"
          ],
          "name": "stdout"
        }
      ]
    },
    {
      "cell_type": "code",
      "metadata": {
        "id": "RSVcPxfcgHC_",
        "colab_type": "code",
        "colab": {
          "base_uri": "https://localhost:8080/",
          "height": 108
        },
        "outputId": "3a9a489f-f90f-43bc-ccff-d111b9e45ea6"
      },
      "source": [
        "result = differential_evolution(Fun, bounds, maxiter=NPAR, popsize=100)\n",
        "print(result.x, result.fun)"
      ],
      "execution_count": null,
      "outputs": [
        {
          "output_type": "stream",
          "text": [
            "[ 0.06457212  0.00100796 -0.02191158 -0.05325862  0.03218231 -0.01828239\n",
            "  0.0355662  -0.02485372  0.03738005 -0.00198455  0.01133543 -0.04626985\n",
            "  0.03969797 -0.0412783   0.05422881 -0.01045659  0.03306958  0.02070465\n",
            "  0.03585541  0.02161659 -0.04027581  0.04167143 -0.02580781 -0.0285244\n",
            " -0.00895972 -0.00530972 -0.00388366  0.00578699  0.0152088  -0.01684894] 0.000758966429799069\n"
          ],
          "name": "stdout"
        }
      ]
    },
    {
      "cell_type": "code",
      "metadata": {
        "id": "DNsAIsbBgOYh",
        "colab_type": "code",
        "colab": {
          "base_uri": "https://localhost:8080/",
          "height": 108
        },
        "outputId": "efa33091-9ca1-4afc-bd09-8e1c957f51b0"
      },
      "source": [
        "result = differential_evolution(Fun, bounds, maxiter=NPAR, popsize=100)\n",
        "print(result.x, result.fun)"
      ],
      "execution_count": null,
      "outputs": [
        {
          "output_type": "stream",
          "text": [
            "[-0.06675127 -0.03327105 -0.03854485 -0.00873214  0.03932712  0.02480048\n",
            "  0.05198789 -0.00703583  0.0067399  -0.009588    0.03226445 -0.01309825\n",
            " -0.00209312  0.02590022 -0.01096255  0.04652699 -0.01428966 -0.00780295\n",
            " -0.02185459  0.01559864 -0.00279251 -0.01018972 -0.02254856  0.02958961\n",
            " -0.01110135  0.01763182  0.01404413 -0.02569343  0.04568888  0.00752854] 0.000658716247813748\n"
          ],
          "name": "stdout"
        }
      ]
    },
    {
      "cell_type": "code",
      "metadata": {
        "id": "6Bpl2tAvgLyM",
        "colab_type": "code",
        "colab": {
          "base_uri": "https://localhost:8080/",
          "height": 108
        },
        "outputId": "d21bc41c-6ff6-41d5-8a12-c6891bbe17e4"
      },
      "source": [
        "result = differential_evolution(Fun, bounds, maxiter=NPAR, popsize=100)\n",
        "print(result.x, result.fun)"
      ],
      "execution_count": null,
      "outputs": [
        {
          "output_type": "stream",
          "text": [
            "[-0.03336955  0.00873172  0.03903104 -0.0015416  -0.05234039  0.00408546\n",
            "  0.02894164  0.01633477  0.02876774 -0.05240512  0.02960091  0.01545294\n",
            " -0.00017725  0.0538518   0.02978553 -0.00422741 -0.01109875 -0.02978583\n",
            "  0.01614942  0.01436475  0.00557066 -0.04490295 -0.02061095 -0.00883714\n",
            "  0.04777774  0.00459755 -0.00199985 -0.04000467 -0.00688889  0.01252328] 0.0006191800086345635\n"
          ],
          "name": "stdout"
        }
      ]
    }
  ]
}