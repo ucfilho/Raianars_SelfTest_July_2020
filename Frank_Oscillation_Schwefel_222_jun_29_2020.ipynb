{
  "nbformat": 4,
  "nbformat_minor": 0,
  "metadata": {
    "colab": {
      "name": "Frank_Oscillation_Schwefel_222_jun_29_2020.ipynb",
      "provenance": [],
      "collapsed_sections": [],
      "include_colab_link": true
    },
    "kernelspec": {
      "name": "python3",
      "display_name": "Python 3"
    },
    "language_info": {
      "codemirror_mode": {
        "name": "ipython",
        "version": 3
      },
      "file_extension": ".py",
      "mimetype": "text/x-python",
      "name": "python",
      "nbconvert_exporter": "python",
      "pygments_lexer": "ipython3",
      "version": "3.7.3"
    },
    "accelerator": "GPU"
  },
  "cells": [
    {
      "cell_type": "markdown",
      "metadata": {
        "id": "view-in-github",
        "colab_type": "text"
      },
      "source": [
        "<a href=\"https://colab.research.google.com/github/ucfilho/Raianars_SelfTest_July_2020/blob/master/Frank_Oscillation_Schwefel_222_jun_29_2020.ipynb\" target=\"_parent\"><img src=\"https://colab.research.google.com/assets/colab-badge.svg\" alt=\"Open In Colab\"/></a>"
      ]
    },
    {
      "cell_type": "code",
      "metadata": {
        "id": "cG5nOUQ9Eucw",
        "colab_type": "code",
        "colab": {}
      },
      "source": [
        "# Schwefel_222\n",
        "# In the paper JADE Ngen=2000  NPAR=100\n",
        "# JADE: Adaptive Differential Evolution with Optional External Archive"
      ],
      "execution_count": 1,
      "outputs": []
    },
    {
      "cell_type": "code",
      "metadata": {
        "id": "Va-6Xios8RjU",
        "colab_type": "code",
        "colab": {
          "base_uri": "https://localhost:8080/",
          "height": 156
        },
        "outputId": "0ebb436b-23c3-42d0-8320-7275b12cdd0d"
      },
      "source": [
        "!git clone https://github.com/ucfilho/Raianars_paper_One #clonar do Github\n",
        "%cd Raianars_paper_One"
      ],
      "execution_count": 2,
      "outputs": [
        {
          "output_type": "stream",
          "text": [
            "Cloning into 'Raianars_paper_One'...\n",
            "remote: Enumerating objects: 82, done.\u001b[K\n",
            "remote: Counting objects: 100% (82/82), done.\u001b[K\n",
            "remote: Compressing objects: 100% (82/82), done.\u001b[K\n",
            "remote: Total 211 (delta 41), reused 0 (delta 0), pack-reused 129\u001b[K\n",
            "Receiving objects: 100% (211/211), 646.13 KiB | 1.86 MiB/s, done.\n",
            "Resolving deltas: 100% (113/113), done.\n",
            "/content/Raianars_paper_One\n"
          ],
          "name": "stdout"
        }
      ]
    },
    {
      "cell_type": "code",
      "metadata": {
        "id": "_E15mKFURR6O",
        "colab_type": "code",
        "colab": {}
      },
      "source": [
        "import Go2Ann\n",
        "import de_soma_Insight\n",
        "import de_bounds_matriz\n",
        "import Function\n",
        "import Go2MinMax\n",
        "from AvaliaX import AvaliaX\n",
        "from GeraIndices import GeraIndices\n",
        "\n",
        "############################### DADOS DE ENTRADA \n",
        "RUNS=50 #NÚMERO DE RODADAS\n",
        "Fc=0.1 # fator de correcao parametros da ANN\n",
        "its=1 #10 # quantas vezes vai usar o NPAR antes de alterar de novo\n",
        "ITE=2000 #10 # PONTOS quantas vezes vai alteral NPAR \n",
        "RefChange=50\n",
        "mut=0.5\n",
        "crossp=0.5\n",
        "Fi=mut;CRi=crossp;# para impressão\n",
        "\n",
        "############################### Função\n",
        "dim=30\n",
        "NPAR=100\n",
        "#fchoice='Rastrigin' #fchoice='Michalewicz' #fchoice='Schwefel'\n",
        "fchoice='Schwefel_222'\n",
        "Fun=Function.Schwefel_222\n",
        "\n",
        "MIN,MAX=Go2MinMax.Intervalo(dim,fchoice)\n",
        "PAR=len(MAX) #NUM DE PARAMETROS A SER OTIMIZADOS\n"
      ],
      "execution_count": 3,
      "outputs": []
    },
    {
      "cell_type": "code",
      "metadata": {
        "colab_type": "code",
        "id": "v1OxgXboBKoG",
        "colab": {}
      },
      "source": [
        "import time\n",
        "import matplotlib.pyplot as plt\n",
        "import numpy as np\n",
        "from random import randint\n",
        "from scipy import optimize\n",
        "import pandas as pd\n",
        "from sklearn.metrics import confusion_matrix"
      ],
      "execution_count": 4,
      "outputs": []
    },
    {
      "cell_type": "code",
      "metadata": {
        "id": "qTINtQ1cosZK",
        "colab_type": "code",
        "colab": {
          "base_uri": "https://localhost:8080/",
          "height": 139
        },
        "outputId": "1ff38637-9851-45fd-a258-3d3cb3fd9786"
      },
      "source": [
        "!git clone https://github.com/ucfilho/ANN_read_matrix #clonar do Github\n",
        "%cd ANN_read_matrix"
      ],
      "execution_count": 5,
      "outputs": [
        {
          "output_type": "stream",
          "text": [
            "Cloning into 'ANN_read_matrix'...\n",
            "remote: Enumerating objects: 20, done.\u001b[K\n",
            "remote: Counting objects: 100% (20/20), done.\u001b[K\n",
            "remote: Compressing objects: 100% (18/18), done.\u001b[K\n",
            "remote: Total 20 (delta 5), reused 0 (delta 0), pack-reused 0\u001b[K\n",
            "Unpacking objects: 100% (20/20), done.\n",
            "/content/Raianars_paper_One/ANN_read_matrix\n"
          ],
          "name": "stdout"
        }
      ]
    },
    {
      "cell_type": "code",
      "metadata": {
        "id": "QiQLYOoNoyCw",
        "colab_type": "code",
        "colab": {}
      },
      "source": [
        "ANN_F=pd.read_csv('ANN_INSIGHT_Valor_F.csv')"
      ],
      "execution_count": 6,
      "outputs": []
    },
    {
      "cell_type": "code",
      "metadata": {
        "id": "uHtW2amaDzFv",
        "colab_type": "code",
        "colab": {}
      },
      "source": [
        "ANN_CR=pd.read_csv('ANN_INSIGHT_CR.csv')"
      ],
      "execution_count": 7,
      "outputs": []
    },
    {
      "cell_type": "code",
      "metadata": {
        "id": "EH6h_vke2yu1",
        "colab_type": "code",
        "colab": {}
      },
      "source": [
        "syn0_F,syn1_F,X_max_F,X_min_F=Go2Ann.GetMatriz(ANN_F)"
      ],
      "execution_count": 8,
      "outputs": []
    },
    {
      "cell_type": "code",
      "metadata": {
        "id": "WW_3ZWJXD60i",
        "colab_type": "code",
        "colab": {}
      },
      "source": [
        "syn0_CR,syn1_CR,X_max_CR,X_min_CR=Go2Ann.GetMatriz(ANN_CR)"
      ],
      "execution_count": 9,
      "outputs": []
    },
    {
      "cell_type": "code",
      "metadata": {
        "id": "b4gwBvVTyaXh",
        "colab_type": "code",
        "colab": {}
      },
      "source": [
        "ANN_CR=pd.read_csv('ANN_INSIGHT_CR.csv')"
      ],
      "execution_count": 10,
      "outputs": []
    },
    {
      "cell_type": "code",
      "metadata": {
        "id": "6jL8MxpHvk-Y",
        "colab_type": "code",
        "colab": {}
      },
      "source": [
        "fields = ['DI RELATIVO','FRAC Its','Fo','CRo']"
      ],
      "execution_count": 11,
      "outputs": []
    },
    {
      "cell_type": "code",
      "metadata": {
        "id": "Mb3LmbSmj9v7",
        "colab_type": "code",
        "colab": {}
      },
      "source": [
        "##################################### \n",
        "\n",
        "#TOTAL=7*dim*its*ITE\n",
        "TOTAL=10*dim*its*ITE\n",
        "TOTAL=int(TOTAL/2)   # CONFERIR SE ESTE EH O MELHOR LUGAR\n",
        "\n",
        "dimensions=len(MAX)\n",
        "start_time = time.time() #INICIALIZA CONTAGEM DO TEMPO\n",
        "\n",
        "MAX_P=np.zeros(ITE) # ATENCAO para variar F e Cr MAX_P passa a ser 3 vezes maior\n",
        "MIN_P=np.zeros(ITE) # ATENCAO para variar F e Cr MIN_P passa a ser 3 vezes maior\n",
        "\n",
        "for i in range(dim):\n",
        "  MAX_P[i]=MAX[i] \n",
        "  MIN_P[i]=MIN[i]\n",
        "\n",
        "rodadas=1\n",
        "for i in range(rodadas):\n",
        "  SOMA=0\n",
        "  pop = np.random.rand(NPAR, dimensions)\n",
        "  diff=np.zeros(PAR)\n",
        "  for ii in range(PAR):\n",
        "    diff[ii] = MAX[ii]-MIN[ii]\n",
        "  X = MIN + pop * diff\n",
        "    \n",
        "  PONTOS=ITE # DIVISOES DA POPULACAO\n",
        " \n",
        "\n",
        "\n",
        "\n"
      ],
      "execution_count": 12,
      "outputs": []
    },
    {
      "cell_type": "code",
      "metadata": {
        "id": "rnX8ttNopd1G",
        "colab_type": "code",
        "colab": {
          "base_uri": "https://localhost:8080/",
          "height": 884
        },
        "outputId": "dd62168c-2bed-414f-f2bb-372750f3619a"
      },
      "source": [
        "#NPAR=int(NPAR/2)\n",
        "start_time = time.time()\n",
        "BEST_AGENTS=[]\n",
        "MAT_stat=[]\n",
        "for i in range(RUNS):\n",
        "    MAT=[] \n",
        "    mut=Fi\n",
        "    crossp=CRi\n",
        "    SOMA=0\n",
        "    SOMAf=0\n",
        "    start_ite = time.time()\n",
        "    delta_time=(start_ite-start_time)/60\n",
        "    \n",
        "    pop = np.random.rand(NPAR, dim)\n",
        "    diff=np.zeros(PAR)\n",
        "    for ii in range(PAR):\n",
        "      diff[ii] = MAX[ii]-MIN[ii]\n",
        "    X = MIN + pop * diff\n",
        "    Xf = MIN + pop * diff\n",
        "    \n",
        "    DIo=1e99\n",
        "  \n",
        "    CRo=crossp;Fo=mut;\n",
        "    Fitness = np.asarray([Fun(ind) for ind in X])\n",
        "\n",
        "    XY,BEST_XY,BESTo,FOBESTo=AvaliaX(X,Fitness)\n",
        "    nrow,ncol=X.shape\n",
        "\n",
        "    QUANT=17;MAT_INDo=np.zeros((1,QUANT)); # quantos indices esta fazendo\n",
        "    MAT_INDo[0,5]=nrow  # VALOR NP\n",
        "    MAT_INDo[0,6]=Fo    # VALOR Fo   \n",
        "    MAT_INDo[0,7]=CRo   # VALOR CRo\n",
        "  \n",
        "    MAT_INDo=GeraIndices(X,BESTo,FOBESTo,DIo,MAT_INDo,SOMA,TOTAL,syn0_F,\n",
        "                        syn1_F,X_max_F,X_min_F,syn0_CR,syn1_CR,X_max_CR,\n",
        "                        X_min_CR,Fc,fields,Fun)\n",
        "  \n",
        "    DIo=np.copy(MAT_INDo[0,0])\n",
        "    MAT_INDo[0,15]=Fo    # VALOR Fo   \n",
        "    MAT_INDo[0,16]=CRo   # VALOR CRo\n",
        "    #ind_crossp=ITE-1\n",
        "\n",
        "    \n",
        "    for k in range(ITE):\n",
        "      X,BEST,FOBEST,XY,BEST_XY,SOMA= de_soma_Insight.de(MAX,MIN, mut, crossp,NPAR,its,Fun,X,SOMA,TOTAL)\n",
        "      #Xf,BESTf,FOBESTf,XYf,BEST_XYf,SOMAf= de_soma_Insight.de(MAX,MIN, Fi, CRi, NPAR,its,Fun,Xf,SOMAf,TOTAL)\n",
        "\n",
        "      \n",
        "      MAT_IND=GeraIndices(X,BESTo,FOBESTo,DIo,MAT_INDo,SOMA,TOTAL,syn0_F,\n",
        "                          syn1_F,X_max_F,X_min_F,syn0_CR,syn1_CR,X_max_CR,\n",
        "                          X_min_CR,Fc,fields,Fun)\n",
        "    \n",
        "      BESTo=np.copy(BEST);FOBESTo=np.copy(FOBEST);\n",
        "      MAT.append(MAT_IND.ravel())\n",
        "    \n",
        "      MAT_INDo[0,6]=MAT_IND[0,15]   # VALOR Fo   \n",
        "      MAT_INDo[0,7]=MAT_IND[0,16]   # VALOR CRo\n",
        "      mut=MAT_IND[0,15]\n",
        "      crossp=MAT_IND[0,16]\n",
        "\n",
        "      if(((k+1)% RefChange)==0):\n",
        "        mut=0.5\n",
        "        crossp=0.5\n",
        "        MAT_IND[0,15]=mut\n",
        "        MAT_IND[0,16]=crossp\n",
        "\n",
        "      \n",
        "      Fitness = np.asarray([Fun(ind) for ind in X])\n",
        "      #Fitnessf = np.asarray([Fun(ind) for ind in Xf])\n",
        "      Maior=np.argmax(Fitness)\n",
        "      #Maiorf=np.argmax(Fitnessf)\n",
        "      Menor=np.argmin(Fitness)\n",
        "      #Menorf=np.argmin(Fitnessf)\n",
        "\n",
        "      #X[Maior,:]=np.copy(Xf[Menorf,:])\n",
        "      #Xf[Maiorf,:]=np.copy(X[Menor,:])\n",
        "\n",
        "    print('RUN=',i,'total=50','time=',delta_time,'Fobj=',FOBEST)  \n",
        "    BEST_AGENTS.append(BEST_XY)\n",
        "    MAT_stat.append(MAT)\n",
        "    #print(\"GlobalParam e Solucao:\", BEST,\"Funcao=\",FOBEST)\n",
        "    \n",
        "############################## Cálculo dos Parâmetros de Avaliação   \n",
        "TIME = (time.time() - start_time)/RUNS\n",
        "BEST_AGENTS=np.array(BEST_AGENTS)\n",
        "BEST_AGENTS_ST= BEST_AGENTS[BEST_AGENTS[:,-1].argsort()]\n",
        "BEST=BEST_AGENTS_ST[0]\n",
        "WORSE=BEST_AGENTS_ST[-1]\n",
        "MEAN=np.mean(BEST_AGENTS,axis=0)\n",
        "MAXFO=BEST_AGENTS[:,-1].max()\n",
        "MINFO=BEST_AGENTS[:,-1].min()\n",
        "STD=BEST_AGENTS[:,-1].std()"
      ],
      "execution_count": 13,
      "outputs": [
        {
          "output_type": "stream",
          "text": [
            "RUN= 0 total=50 time= 8.408228556315104e-06 Fobj= 3.7895100255204036e-16\n",
            "RUN= 1 total=50 time= 2.4335041840871177 Fobj= 4.31984228164021e-16\n",
            "RUN= 2 total=50 time= 4.849487260977427 Fobj= 5.917585802539101e-16\n",
            "RUN= 3 total=50 time= 7.285139346122742 Fobj= 4.699807385391804e-16\n",
            "RUN= 4 total=50 time= 9.721506611506145 Fobj= 7.87654658222365e-16\n",
            "RUN= 5 total=50 time= 12.147886776924134 Fobj= 6.354077475949244e-16\n",
            "RUN= 6 total=50 time= 14.574815074602762 Fobj= 7.936364548805738e-17\n",
            "RUN= 7 total=50 time= 16.97555238008499 Fobj= 1.0395506124621521e-20\n",
            "RUN= 8 total=50 time= 19.35001851717631 Fobj= 2.516765791361264e-20\n",
            "RUN= 9 total=50 time= 21.730661582946777 Fobj= 5.81351333569391e-16\n",
            "RUN= 10 total=50 time= 24.148065813382466 Fobj= 5.01731907936001e-16\n",
            "RUN= 11 total=50 time= 26.571205679575602 Fobj= 4.0823615457197966e-16\n",
            "RUN= 12 total=50 time= 29.0081245024999 Fobj= 2.273107786755305e-20\n",
            "RUN= 13 total=50 time= 31.3835919936498 Fobj= 3.8310581000576947e-16\n",
            "RUN= 14 total=50 time= 33.795055290063225 Fobj= 2.6062851193063987e-16\n",
            "RUN= 15 total=50 time= 36.200731841723126 Fobj= 1.3789466503766889e-17\n",
            "RUN= 16 total=50 time= 38.607946646213534 Fobj= 6.697249295769252e-16\n",
            "RUN= 17 total=50 time= 41.03489775657654 Fobj= 3.6232209781239445e-16\n",
            "RUN= 18 total=50 time= 43.43923830588658 Fobj= 4.42099178820204e-16\n",
            "RUN= 19 total=50 time= 45.831819824377696 Fobj= 2.694758506071655e-17\n",
            "RUN= 20 total=50 time= 48.19939388036728 Fobj= 5.61362721633396e-16\n",
            "RUN= 21 total=50 time= 50.60273002386093 Fobj= 6.753952282940225e-16\n",
            "RUN= 22 total=50 time= 53.00943146149317 Fobj= 1.7704061245234262e-20\n",
            "RUN= 23 total=50 time= 55.386290140946706 Fobj= 1.104223549959799e-20\n",
            "RUN= 24 total=50 time= 57.7526194135348 Fobj= 4.923892954610929e-16\n",
            "RUN= 25 total=50 time= 60.165997087955475 Fobj= 6.855406041485217e-17\n",
            "RUN= 26 total=50 time= 62.567452585697175 Fobj= 4.470326401917621e-16\n",
            "RUN= 27 total=50 time= 64.98105467160543 Fobj= 7.506494383470859e-17\n",
            "RUN= 28 total=50 time= 67.35597939491272 Fobj= 1.0993255107643353e-20\n",
            "RUN= 29 total=50 time= 69.73873644669851 Fobj= 1.1543438237226684e-16\n",
            "RUN= 30 total=50 time= 72.14475877682368 Fobj= 1.5528940347627726e-16\n",
            "RUN= 31 total=50 time= 74.53808309237162 Fobj= 4.2969972954349415e-17\n",
            "RUN= 32 total=50 time= 76.92770737806956 Fobj= 1.7129116307747287e-20\n",
            "RUN= 33 total=50 time= 79.30438282489777 Fobj= 6.721251016758709e-16\n",
            "RUN= 34 total=50 time= 81.71597698132197 Fobj= 3.85819210490187e-16\n",
            "RUN= 35 total=50 time= 84.11912577946981 Fobj= 6.101614200468599e-16\n",
            "RUN= 36 total=50 time= 86.52838832537333 Fobj= 1.981085107445514e-18\n",
            "RUN= 37 total=50 time= 88.85295666853587 Fobj= 3.5866869202316835e-16\n",
            "RUN= 38 total=50 time= 91.2063830534617 Fobj= 2.2557759485770774e-18\n",
            "RUN= 39 total=50 time= 93.50460457404455 Fobj= 6.425359471784078e-16\n",
            "RUN= 40 total=50 time= 95.83137042919795 Fobj= 5.867977854980958e-16\n",
            "RUN= 41 total=50 time= 98.13971156279246 Fobj= 2.048855637638627e-20\n",
            "RUN= 42 total=50 time= 100.43914675712585 Fobj= 6.062653550645904e-16\n",
            "RUN= 43 total=50 time= 102.8125137090683 Fobj= 7.361564106010712e-16\n",
            "RUN= 44 total=50 time= 105.18949129184087 Fobj= 4.295632858961577e-17\n",
            "RUN= 45 total=50 time= 107.54283620119095 Fobj= 1.4044489348746668e-20\n",
            "RUN= 46 total=50 time= 109.89609462420145 Fobj= 2.409995506699853e-20\n",
            "RUN= 47 total=50 time= 112.24865100781123 Fobj= 2.519159321367484e-16\n",
            "RUN= 48 total=50 time= 114.64432503382365 Fobj= 4.136128973353189e-16\n",
            "RUN= 49 total=50 time= 117.00143562952677 Fobj= 5.160069999178249e-16\n"
          ],
          "name": "stdout"
        }
      ]
    },
    {
      "cell_type": "code",
      "metadata": {
        "id": "5gDOmRHCygU-",
        "colab_type": "code",
        "colab": {}
      },
      "source": [
        "# print(TOTAL)"
      ],
      "execution_count": 14,
      "outputs": []
    },
    {
      "cell_type": "code",
      "metadata": {
        "id": "k3p9TGsx1OCu",
        "colab_type": "code",
        "colab": {}
      },
      "source": [
        "NOMES=['DIVERSIDADE (DI)',  'DI RELATIVO','FRAC Its',\n",
        "           'VELOC FOBJ','VELOC X','NP','Fo','CRo','fmin','fmax',\n",
        "           'AD_fmin','AD_fmax','DELTA FOBJ','DELTA VX','r_fitness',\n",
        "           'F','CR']\n",
        "# BEST_INDEX= BEST_AGENTS[BEST_AGENTS[:,-1].argmin()]  \n",
        "BEST_INDEX = np.argmin(BEST_AGENTS[:,-1])\n",
        "df=pd.DataFrame(MAT_stat[BEST_INDEX], columns=NOMES)\n",
        "\n"
      ],
      "execution_count": 15,
      "outputs": []
    },
    {
      "cell_type": "code",
      "metadata": {
        "id": "jIHiKR_t1xxs",
        "colab_type": "code",
        "colab": {
          "base_uri": "https://localhost:8080/",
          "height": 711
        },
        "outputId": "a03736b8-7cf7-4432-c0cd-23d10546683e"
      },
      "source": [
        "pd.set_option('display.max_columns', 30)  \n",
        "print(df)"
      ],
      "execution_count": 16,
      "outputs": [
        {
          "output_type": "stream",
          "text": [
            "      DIVERSIDADE (DI)   DI RELATIVO  FRAC Its  VELOC FOBJ  VELOC X     NP  \\\n",
            "0         3.085101e+02  9.771491e-01  0.000333         1.0      2.0  100.0   \n",
            "1         2.992621e+02  9.478578e-01  0.000667         0.0      0.0  100.0   \n",
            "2         2.917070e+02  9.239281e-01  0.001000         0.0      0.0  100.0   \n",
            "3         2.860507e+02  9.060130e-01  0.001333         1.0      2.0  100.0   \n",
            "4         2.796125e+02  8.856212e-01  0.001667         1.0      2.0  100.0   \n",
            "...                ...           ...       ...         ...      ...    ...   \n",
            "1995      4.756646e-21  1.506580e-23  0.665333         0.0      0.0  100.0   \n",
            "1996      4.642514e-21  1.470431e-23  0.665667         1.0      1.0  100.0   \n",
            "1997      4.524139e-21  1.432938e-23  0.666000         1.0      1.0  100.0   \n",
            "1998      4.450336e-21  1.409562e-23  0.666333         0.0      0.0  100.0   \n",
            "1999      4.362824e-21  1.381844e-23  0.666667         1.0      1.0  100.0   \n",
            "\n",
            "            Fo       CRo          fmin          fmax  AD_fmin  AD_fmax  \\\n",
            "0     0.500000  0.500000  1.003804e+03  1.728288e+03      1.0      1.0   \n",
            "1     0.255713  0.337142  1.003804e+03  1.707470e+03      1.0      1.0   \n",
            "2     0.437497  0.230621  1.003804e+03  1.665611e+03      1.0      1.0   \n",
            "3     0.235389  0.159595  9.775336e+02  1.665611e+03      1.0      1.0   \n",
            "4     0.395338  0.231893  9.721410e+02  1.665611e+03      1.0      1.0   \n",
            "...        ...       ...           ...           ...      ...      ...   \n",
            "1995  0.336337  0.139216  1.251163e-20  2.764048e-20      1.0      1.0   \n",
            "1996  0.336337  0.139216  1.232405e-20  2.531758e-20      1.0      1.0   \n",
            "1997  0.336337  0.139216  1.098223e-20  2.424754e-20      1.0      1.0   \n",
            "1998  0.336337  0.139216  1.098223e-20  2.421651e-20      1.0      1.0   \n",
            "1999  0.336337  0.139216  1.039551e-20  2.421651e-20      1.0      1.0   \n",
            "\n",
            "      DELTA FOBJ  DELTA VX  r_fitness         F        CR  \n",
            "0            0.0       0.0   0.419192  0.255713  0.337142  \n",
            "1            0.0       0.0   0.412110  0.437497  0.230621  \n",
            "2            0.0       0.0   0.397336  0.235389  0.159595  \n",
            "3            0.0       0.0   0.413108  0.395338  0.231893  \n",
            "4            0.0       0.0   0.416346  0.657929  0.163436  \n",
            "...          ...       ...        ...       ...       ...  \n",
            "1995         0.0       0.0   0.547344  0.336337  0.139216  \n",
            "1996         0.0       0.0   0.513222  0.336337  0.139216  \n",
            "1997         0.0       0.0   0.547079  0.336337  0.139216  \n",
            "1998         0.0       0.0   0.546498  0.336337  0.139216  \n",
            "1999         0.0       0.0   0.570727  0.500000  0.500000  \n",
            "\n",
            "[2000 rows x 17 columns]\n"
          ],
          "name": "stdout"
        }
      ]
    },
    {
      "cell_type": "code",
      "metadata": {
        "id": "bx0ywpMtAAjw",
        "colab_type": "code",
        "colab": {
          "base_uri": "https://localhost:8080/",
          "height": 297
        },
        "outputId": "34540eba-e0e2-4710-a3f6-10d0cb20124f"
      },
      "source": [
        "plt.plot(df['FRAC Its'],df['CR'])\n",
        "plt.xlabel('Iteração/Total')\n",
        "plt.ylabel('CR')"
      ],
      "execution_count": 17,
      "outputs": [
        {
          "output_type": "execute_result",
          "data": {
            "text/plain": [
              "Text(0, 0.5, 'CR')"
            ]
          },
          "metadata": {
            "tags": []
          },
          "execution_count": 17
        },
        {
          "output_type": "display_data",
          "data": {
            "image/png": "[encoded data removed]",
            "text/plain": [
              "<Figure size 432x288 with 1 Axes>"
            ]
          },
          "metadata": {
            "tags": [],
            "needs_background": "light"
          }
        }
      ]
    },
    {
      "cell_type": "code",
      "metadata": {
        "id": "BvPFvbDvteDC",
        "colab_type": "code",
        "colab": {
          "base_uri": "https://localhost:8080/",
          "height": 295
        },
        "outputId": "f7d349af-bba6-431b-e8aa-3b3b1bd274d0"
      },
      "source": [
        "\n",
        "fig, ax = plt.subplots()\n",
        "ax.plot(df['FRAC Its'],df['F'],label='F')\n",
        "ax.set_xlabel('Iteração/Total')\n",
        "ax.set_ylabel('Parâmetros')\n",
        "ax.plot(df['FRAC Its'],df['CR'],'-r', label='CR')\n",
        "nome=Fun.__name__+'  M=Diversidade'+ '  D='+str(dim)\n",
        "ax.set_title(nome)\n",
        "leg = ax.legend()\n"
      ],
      "execution_count": 18,
      "outputs": [
        {
          "output_type": "display_data",
          "data": {
            "image/png": "[encoded data removed]",
            "text/plain": [
              "<Figure size 432x288 with 1 Axes>"
            ]
          },
          "metadata": {
            "tags": [],
            "needs_background": "light"
          }
        }
      ]
    },
    {
      "cell_type": "code",
      "metadata": {
        "id": "htooaGpDia_0",
        "colab_type": "code",
        "colab": {
          "base_uri": "https://localhost:8080/",
          "height": 313
        },
        "outputId": "29ac483b-eae5-409b-a3f6-8d8eff8fe964"
      },
      "source": [
        "f, axarr = plt.subplots(2, sharex=True)\n",
        "axarr[0].plot(df['FRAC Its'],df['F'])\n",
        "axarr[0].set_ylabel('F')\n",
        "axarr[1].plot(df['FRAC Its'],df['CR'])\n",
        "axarr[1].set_ylabel('CR')\n",
        "axarr[1].set_xlabel('Iteração/Total')\n",
        "nome=Fun.__name__+'_Diversidade_'+ 'D='+str(dim)\n",
        "axarr[0].set_title(nome)\n"
      ],
      "execution_count": 19,
      "outputs": [
        {
          "output_type": "execute_result",
          "data": {
            "text/plain": [
              "Text(0.5, 1.0, 'Schwefel_222_Diversidade_D=30')"
            ]
          },
          "metadata": {
            "tags": []
          },
          "execution_count": 19
        },
        {
          "output_type": "display_data",
          "data": {
            "image/png": "[encoded data removed]",
            "text/plain": [
              "<Figure size 432x288 with 2 Axes>"
            ]
          },
          "metadata": {
            "tags": [],
            "needs_background": "light"
          }
        }
      ]
    },
    {
      "cell_type": "code",
      "metadata": {
        "id": "lNSN5X-wskcx",
        "colab_type": "code",
        "colab": {
          "base_uri": "https://localhost:8080/",
          "height": 329
        },
        "outputId": "3b5904de-472d-48bf-c9bb-ae95c38f6bdd"
      },
      "source": [
        "nome='_ANN_Div3x4_Fo-'+str(Fi)+'_CRo-'+str(CRi)+'_D-'+str(dim)+'_Interv-'+str(ITE)\n",
        "print('DE_POP_VAR_F_CR','TOTAL=',TOTAL,'Iterações=',ITE*its,'Dim=', PAR,\"Min/Max=\",MIN[0],\"/\",MAX[0],'_',Fun.__name__)\n",
        "print(nome, '\\n')\n",
        "#print('BEST: ',BEST)\n",
        "#print('MÉDIA: ',MEAN)\n",
        "print('MÉDIA: ',MEAN[-1])\n",
        "print('MIN __:',MINFO)\n",
        "print('MAX__: ',MAXFO)\n",
        "print('STD __:',STD)\n",
        "print(\"Tempo Médio= %.3f segundos ---\" % (TIME))\n",
        "print(RUNS,'Rodadas') \n",
        "print()\n",
        "print('BEST: ',BEST)\n",
        "# print('melhor=',BEST_AGENTS[BEST_INDEX])"
      ],
      "execution_count": 20,
      "outputs": [
        {
          "output_type": "stream",
          "text": [
            "DE_POP_VAR_F_CR TOTAL= 300000 Iterações= 2000 Dim= 30 Min/Max= -100 / 100 _ Schwefel_222\n",
            "_ANN_Div3x4_Fo-0.5_CRo-0.5_D-30_Interv-2000 \n",
            "\n",
            "MÉDIA:  3.0971925925519315e-16\n",
            "MIN __: 1.0395506124621521e-20\n",
            "MAX__:  7.87654658222365e-16\n",
            "STD __: 2.6140828053933834e-16\n",
            "Tempo Médio= 143.272 segundos ---\n",
            "50 Rodadas\n",
            "\n",
            "BEST:  [-8.11756761e-22 -2.10025248e-22  1.07155215e-21  1.19835506e-22\n",
            "  3.49999896e-24 -3.13660598e-22  2.07616735e-22 -8.37708747e-22\n",
            "  4.02712247e-22 -9.00582768e-23 -1.58917289e-22  1.42936940e-22\n",
            "  1.42662646e-22  2.52769283e-22 -6.69504468e-23 -8.04851716e-23\n",
            " -1.02859246e-21 -9.09348137e-23 -3.49200344e-22  1.29863632e-22\n",
            " -7.70586274e-22 -1.95936720e-22  3.82011861e-22  1.79633235e-22\n",
            " -7.42464673e-22  7.43081096e-22  1.41254438e-24 -7.11412205e-23\n",
            "  4.35611855e-22  3.61887350e-22  1.03955061e-20]\n"
          ],
          "name": "stdout"
        }
      ]
    },
    {
      "cell_type": "code",
      "metadata": {
        "id": "aPPrDD5-_X6F",
        "colab_type": "code",
        "colab": {}
      },
      "source": [
        ""
      ],
      "execution_count": 20,
      "outputs": []
    }
  ]
}