{
  "nbformat": 4,
  "nbformat_minor": 0,
  "metadata": {
    "colab": {
      "name": "Frank_Noisy_Quartic_batch_jun_28_2020.ipynb",
      "provenance": [],
      "collapsed_sections": [],
      "include_colab_link": true
    },
    "kernelspec": {
      "name": "python3",
      "display_name": "Python 3"
    },
    "language_info": {
      "codemirror_mode": {
        "name": "ipython",
        "version": 3
      },
      "file_extension": ".py",
      "mimetype": "text/x-python",
      "name": "python",
      "nbconvert_exporter": "python",
      "pygments_lexer": "ipython3",
      "version": "3.7.3"
    },
    "accelerator": "GPU"
  },
  "cells": [
    {
      "cell_type": "markdown",
      "metadata": {
        "id": "view-in-github",
        "colab_type": "text"
      },
      "source": [
        "<a href=\"https://colab.research.google.com/github/ucfilho/Raianars_SelfTest_July_2020/blob/master/Frank_Noisy_Quartic_batch_jun_28_2020.ipynb\" target=\"_parent\"><img src=\"https://colab.research.google.com/assets/colab-badge.svg\" alt=\"Open In Colab\"/></a>"
      ]
    },
    {
      "cell_type": "code",
      "metadata": {
        "id": "cG5nOUQ9Eucw",
        "colab_type": "code",
        "colab": {}
      },
      "source": [
        "# Noisy_Quartic\n",
        "# In the paper Ngen=3000\n",
        "# JADE: Adaptive Differential Evolution with Optional External Archive"
      ],
      "execution_count": 1,
      "outputs": []
    },
    {
      "cell_type": "code",
      "metadata": {
        "id": "Va-6Xios8RjU",
        "colab_type": "code",
        "colab": {
          "base_uri": "https://localhost:8080/",
          "height": 52
        },
        "outputId": "02fa4032-6273-47d5-d57f-0faa6eeede02"
      },
      "source": [
        "!git clone https://github.com/ucfilho/Raianars_paper_One #clonar do Github\n",
        "%cd Raianars_paper_One"
      ],
      "execution_count": 2,
      "outputs": [
        {
          "output_type": "stream",
          "text": [
            "fatal: destination path 'Raianars_paper_One' already exists and is not an empty directory.\n",
            "/content/Raianars_paper_One\n"
          ],
          "name": "stdout"
        }
      ]
    },
    {
      "cell_type": "code",
      "metadata": {
        "id": "_E15mKFURR6O",
        "colab_type": "code",
        "colab": {}
      },
      "source": [
        "import Go2Ann\n",
        "import de_soma_Insight\n",
        "import de_bounds_matriz\n",
        "import Function\n",
        "import Go2MinMax\n",
        "from AvaliaX import AvaliaX\n",
        "from GeraIndices import GeraIndices\n",
        "\n",
        "############################### DADOS DE ENTRADA \n",
        "RUNS=50 #NÚMERO DE RODADAS\n",
        "Fc=0.1 # fator de correcao parametros da ANN\n",
        "its=10 #10 # quantas vezes vai usar o NPAR antes de alterar de novo\n",
        "ITE=3000 #10 # PONTOS quantas vezes vai alteral NPAR \n",
        "NPAR=100\n",
        "ITE=int(ITE/its) # used to keep constant F and CR by its times\n",
        "\n",
        "mut=0.5\n",
        "crossp=0.5\n",
        "Fi=mut;CRi=crossp;# para impressão\n",
        "\n",
        "############################### Função\n",
        "dim=30\n",
        "\n",
        "#fchoice='Rastrigin' #fchoice='Michalewicz' #fchoice='Schwefel'\n",
        "fchoice='Noisy_Quartic'\n",
        "Fun=Function.Noisy_Quartic\n",
        "\n",
        "MIN,MAX=Go2MinMax.Intervalo(dim,fchoice)\n",
        "PAR=len(MAX) #NUM DE PARAMETROS A SER OTIMIZADOS\n"
      ],
      "execution_count": 3,
      "outputs": []
    },
    {
      "cell_type": "code",
      "metadata": {
        "colab_type": "code",
        "id": "v1OxgXboBKoG",
        "colab": {}
      },
      "source": [
        "import time\n",
        "import matplotlib.pyplot as plt\n",
        "import numpy as np\n",
        "from random import randint\n",
        "from scipy import optimize\n",
        "import pandas as pd\n",
        "from sklearn.metrics import confusion_matrix"
      ],
      "execution_count": 4,
      "outputs": []
    },
    {
      "cell_type": "code",
      "metadata": {
        "id": "qTINtQ1cosZK",
        "colab_type": "code",
        "colab": {
          "base_uri": "https://localhost:8080/",
          "height": 52
        },
        "outputId": "fa69a659-a6f0-45a7-ede5-26d8b4d4bb4f"
      },
      "source": [
        "!git clone https://github.com/ucfilho/ANN_read_matrix #clonar do Github\n",
        "%cd ANN_read_matrix"
      ],
      "execution_count": 5,
      "outputs": [
        {
          "output_type": "stream",
          "text": [
            "fatal: destination path 'ANN_read_matrix' already exists and is not an empty directory.\n",
            "/content/Raianars_paper_One/ANN_read_matrix\n"
          ],
          "name": "stdout"
        }
      ]
    },
    {
      "cell_type": "code",
      "metadata": {
        "id": "QiQLYOoNoyCw",
        "colab_type": "code",
        "colab": {}
      },
      "source": [
        "ANN_F=pd.read_csv('ANN_INSIGHT_Valor_F.csv')"
      ],
      "execution_count": 6,
      "outputs": []
    },
    {
      "cell_type": "code",
      "metadata": {
        "id": "uHtW2amaDzFv",
        "colab_type": "code",
        "colab": {}
      },
      "source": [
        "ANN_CR=pd.read_csv('ANN_INSIGHT_CR.csv')"
      ],
      "execution_count": 7,
      "outputs": []
    },
    {
      "cell_type": "code",
      "metadata": {
        "id": "EH6h_vke2yu1",
        "colab_type": "code",
        "colab": {}
      },
      "source": [
        "syn0_F,syn1_F,X_max_F,X_min_F=Go2Ann.GetMatriz(ANN_F)"
      ],
      "execution_count": 8,
      "outputs": []
    },
    {
      "cell_type": "code",
      "metadata": {
        "id": "WW_3ZWJXD60i",
        "colab_type": "code",
        "colab": {}
      },
      "source": [
        "syn0_CR,syn1_CR,X_max_CR,X_min_CR=Go2Ann.GetMatriz(ANN_CR)"
      ],
      "execution_count": 9,
      "outputs": []
    },
    {
      "cell_type": "code",
      "metadata": {
        "id": "b4gwBvVTyaXh",
        "colab_type": "code",
        "colab": {}
      },
      "source": [
        "ANN_CR=pd.read_csv('ANN_INSIGHT_CR.csv')"
      ],
      "execution_count": 10,
      "outputs": []
    },
    {
      "cell_type": "code",
      "metadata": {
        "id": "6jL8MxpHvk-Y",
        "colab_type": "code",
        "colab": {}
      },
      "source": [
        "fields = ['DI RELATIVO','FRAC Its','Fo','CRo']"
      ],
      "execution_count": 11,
      "outputs": []
    },
    {
      "cell_type": "code",
      "metadata": {
        "id": "Mb3LmbSmj9v7",
        "colab_type": "code",
        "colab": {}
      },
      "source": [
        "##################################### \n",
        "\n",
        "#TOTAL=7*dim*its*ITE\n",
        "TOTAL=10*dim*its*ITE\n",
        "TOTAL=int(TOTAL/2)   # CONFERIR SE ESTE EH O MELHOR LUGAR\n",
        "\n",
        "dimensions=len(MAX)\n",
        "start_time = time.time() #INICIALIZA CONTAGEM DO TEMPO\n",
        "\n",
        "\n",
        "\n",
        "rodadas=1\n",
        "for i in range(rodadas):\n",
        "  SOMA=0\n",
        "  pop = np.random.rand(NPAR, dimensions)\n",
        "  diff=np.zeros(PAR)\n",
        "  for ii in range(PAR):\n",
        "    diff[ii] = MAX[ii]-MIN[ii]\n",
        "  X = MIN + pop * diff\n",
        "    \n",
        "  PONTOS=ITE # DIVISOES DA POPULACAO\n"
      ],
      "execution_count": 12,
      "outputs": []
    },
    {
      "cell_type": "code",
      "metadata": {
        "id": "rnX8ttNopd1G",
        "colab_type": "code",
        "colab": {
          "base_uri": "https://localhost:8080/",
          "height": 884
        },
        "outputId": "6704ac2d-05f4-4368-d548-9e50f071f437"
      },
      "source": [
        "#NPAR=int(NPAR/2)\n",
        "start_time = time.time()\n",
        "BEST_AGENTS=[]\n",
        "MAT_stat=[]\n",
        "for i in range(RUNS):\n",
        "    MAT=[] \n",
        "    mut=Fi\n",
        "    crossp=CRi\n",
        "    SOMA=0\n",
        "    SOMAf=0\n",
        "    start_ite = time.time()\n",
        "    delta_time=(start_ite-start_time)/60\n",
        "  \n",
        "    pop = np.random.rand(NPAR, dim)\n",
        "    diff=np.zeros(PAR)\n",
        "    for ii in range(PAR):\n",
        "      diff[ii] = MAX[ii]-MIN[ii]\n",
        "    X = MIN + pop * diff\n",
        "    Xf = MIN + pop * diff\n",
        "    \n",
        "    DIo=1e99\n",
        "  \n",
        "    CRo=crossp;Fo=mut;\n",
        "    Fitness = np.asarray([Fun(ind) for ind in X])\n",
        "\n",
        "    XY,BEST_XY,BESTo,FOBESTo=AvaliaX(X,Fitness)\n",
        "    nrow,ncol=X.shape\n",
        "\n",
        "    QUANT=17;MAT_INDo=np.zeros((1,QUANT)); # quantos indices esta fazendo\n",
        "    MAT_INDo[0,5]=nrow  # VALOR NP\n",
        "    MAT_INDo[0,6]=Fo    # VALOR Fo   \n",
        "    MAT_INDo[0,7]=CRo   # VALOR CRo\n",
        "  \n",
        "    MAT_INDo=GeraIndices(X,BESTo,FOBESTo,DIo,MAT_INDo,SOMA,TOTAL,syn0_F,\n",
        "                        syn1_F,X_max_F,X_min_F,syn0_CR,syn1_CR,X_max_CR,\n",
        "                        X_min_CR,Fc,fields,Fun)\n",
        "  \n",
        "    DIo=np.copy(MAT_INDo[0,0])\n",
        "    MAT_INDo[0,15]=Fo    # VALOR Fo   \n",
        "    MAT_INDo[0,16]=CRo   # VALOR CRo\n",
        "    #ind_crossp=ITE-1\n",
        "\n",
        "    \n",
        "    for k in range(ITE):\n",
        "      X,BEST,FOBEST,XY,BEST_XY,SOMA= de_soma_Insight.de(MAX,MIN, mut, crossp,NPAR,its,Fun,X,SOMA,TOTAL)\n",
        "      #Xf,BESTf,FOBESTf,XYf,BEST_XYf,SOMAf= de_soma_Insight.de(MAX,MIN, Fi, CRi, NPAR,its,Fun,Xf,SOMAf,TOTAL)\n",
        "\n",
        "      \n",
        "      MAT_IND=GeraIndices(X,BESTo,FOBESTo,DIo,MAT_INDo,SOMA,TOTAL,syn0_F,\n",
        "                          syn1_F,X_max_F,X_min_F,syn0_CR,syn1_CR,X_max_CR,\n",
        "                          X_min_CR,Fc,fields,Fun)\n",
        "    \n",
        "      BESTo=np.copy(BEST);FOBESTo=np.copy(FOBEST);\n",
        "      MAT.append(MAT_IND.ravel())\n",
        "    \n",
        "      MAT_INDo[0,6]=MAT_IND[0,15]   # VALOR Fo   \n",
        "      MAT_INDo[0,7]=MAT_IND[0,16]   # VALOR CRo\n",
        "      mut=MAT_IND[0,15]\n",
        "      crossp=MAT_IND[0,16]\n",
        "\n",
        "      Fitness = np.asarray([Fun(ind) for ind in X])\n",
        "      Maior=np.argmax(Fitness)\n",
        "      Menor=np.argmin(Fitness)\n",
        " \n",
        "    print('ite=',i,'total=50','time=',delta_time,'Fobj=',FOBEST)  \n",
        "    BEST_AGENTS.append(BEST_XY)\n",
        "    MAT_stat.append(MAT)\n",
        "    \n",
        "############################## Cálculo dos Parâmetros de Avaliação   \n",
        "TIME = (time.time() - start_time)/RUNS\n",
        "BEST_AGENTS=np.array(BEST_AGENTS)\n",
        "BEST_AGENTS_ST= BEST_AGENTS[BEST_AGENTS[:,-1].argsort()]\n",
        "BEST=BEST_AGENTS_ST[0]\n",
        "WORSE=BEST_AGENTS_ST[-1]\n",
        "MEAN=np.mean(BEST_AGENTS,axis=0)\n",
        "MAXFO=BEST_AGENTS[:,-1].max()\n",
        "MINFO=BEST_AGENTS[:,-1].min()\n",
        "STD=BEST_AGENTS[:,-1].std()"
      ],
      "execution_count": 13,
      "outputs": [
        {
          "output_type": "stream",
          "text": [
            "ite= 0 total=50 time= 5.964438120524088e-06 Fobj= 0.21259339038062286\n",
            "ite= 1 total=50 time= 0.8866167704264323 Fobj= 0.18649265892919162\n",
            "ite= 2 total=50 time= 1.7702804843584696 Fobj= 0.18365231471143875\n",
            "ite= 3 total=50 time= 2.650111444791158 Fobj= 0.07100821940714952\n",
            "ite= 4 total=50 time= 3.518208611011505 Fobj= 0.2121543802386707\n",
            "ite= 5 total=50 time= 4.384103449185689 Fobj= 0.2530328292262084\n",
            "ite= 6 total=50 time= 5.266814875602722 Fobj= 0.1662293821094397\n",
            "ite= 7 total=50 time= 6.130887313683828 Fobj= 0.19698157741387481\n",
            "ite= 8 total=50 time= 6.994356103738149 Fobj= 0.2865033730904035\n",
            "ite= 9 total=50 time= 7.857149295012156 Fobj= 0.23075075316875554\n",
            "ite= 10 total=50 time= 8.718162854512533 Fobj= 0.16255100922640842\n",
            "ite= 11 total=50 time= 9.580416866143544 Fobj= 0.27754562556002466\n",
            "ite= 12 total=50 time= 10.44958193699519 Fobj= 0.20597805270927189\n",
            "ite= 13 total=50 time= 11.31325494448344 Fobj= 0.153343814956575\n",
            "ite= 14 total=50 time= 12.171730176607769 Fobj= 0.2683887774203224\n",
            "ite= 15 total=50 time= 13.03040242989858 Fobj= 0.19090614938945316\n",
            "ite= 16 total=50 time= 13.88740034500758 Fobj= 0.2331515763444721\n",
            "ite= 17 total=50 time= 14.755302615960439 Fobj= 0.2518336837189953\n",
            "ite= 18 total=50 time= 15.607662375768026 Fobj= 0.1560739339195697\n",
            "ite= 19 total=50 time= 16.466054618358612 Fobj= 0.12569835615105782\n",
            "ite= 20 total=50 time= 17.319257152080535 Fobj= 0.2380270632195555\n",
            "ite= 21 total=50 time= 18.180280097325642 Fobj= 0.2276469473877448\n",
            "ite= 22 total=50 time= 19.04322628180186 Fobj= 0.23996414236077407\n",
            "ite= 23 total=50 time= 19.899070807298024 Fobj= 0.12996745909731813\n",
            "ite= 24 total=50 time= 20.75286639134089 Fobj= 0.12249718051713653\n",
            "ite= 25 total=50 time= 21.606127754847208 Fobj= 0.21801258970512408\n",
            "ite= 26 total=50 time= 22.4537229180336 Fobj= 0.19833386270720219\n",
            "ite= 27 total=50 time= 23.312504772345225 Fobj= 0.14415968703145618\n",
            "ite= 28 total=50 time= 24.168662424882253 Fobj= 0.21267361561553355\n",
            "ite= 29 total=50 time= 25.016232788562775 Fobj= 0.10004885199290403\n",
            "ite= 30 total=50 time= 25.863762684663136 Fobj= 0.1528865671322014\n",
            "ite= 31 total=50 time= 26.709931103388467 Fobj= 0.2850023344943827\n",
            "ite= 32 total=50 time= 27.583932328224183 Fobj= 0.19024293458356892\n",
            "ite= 33 total=50 time= 28.487345719337462 Fobj= 0.24718362493734708\n",
            "ite= 34 total=50 time= 29.343551103274027 Fobj= 0.3028045816133657\n",
            "ite= 35 total=50 time= 30.202877883116404 Fobj= 0.20454061234209933\n",
            "ite= 36 total=50 time= 31.057236099243163 Fobj= 0.2497130900145022\n",
            "ite= 37 total=50 time= 31.925539060433707 Fobj= 0.24536479080850115\n",
            "ite= 38 total=50 time= 32.78962863286336 Fobj= 0.23540228348529826\n",
            "ite= 39 total=50 time= 33.65127960840861 Fobj= 0.20920314549752034\n",
            "ite= 40 total=50 time= 34.50457984606425 Fobj= 0.18511821692428596\n",
            "ite= 41 total=50 time= 35.364013528823854 Fobj= 0.24398014694134043\n",
            "ite= 42 total=50 time= 36.22410850922267 Fobj= 0.19417012552460686\n",
            "ite= 43 total=50 time= 37.0781364440918 Fobj= 0.26614191716915575\n",
            "ite= 44 total=50 time= 37.940848247210184 Fobj= 0.23928669585831758\n",
            "ite= 45 total=50 time= 38.79690098762512 Fobj= 0.2075133394941832\n",
            "ite= 46 total=50 time= 39.6471003929774 Fobj= 0.24170413270255428\n",
            "ite= 47 total=50 time= 40.49638711214065 Fobj= 0.13872224451659168\n",
            "ite= 48 total=50 time= 41.34332003990809 Fobj= 0.13101874296885618\n",
            "ite= 49 total=50 time= 42.19688864151637 Fobj= 0.29866897307583323\n"
          ],
          "name": "stdout"
        }
      ]
    },
    {
      "cell_type": "code",
      "metadata": {
        "id": "5gDOmRHCygU-",
        "colab_type": "code",
        "colab": {}
      },
      "source": [
        "# print(TOTAL)"
      ],
      "execution_count": 14,
      "outputs": []
    },
    {
      "cell_type": "code",
      "metadata": {
        "id": "k3p9TGsx1OCu",
        "colab_type": "code",
        "colab": {}
      },
      "source": [
        "NOMES=['DIVERSIDADE (DI)',  'DI RELATIVO','FRAC Its',\n",
        "           'VELOC FOBJ','VELOC X','NP','Fo','CRo','fmin','fmax',\n",
        "           'AD_fmin','AD_fmax','DELTA FOBJ','DELTA VX','r_fitness',\n",
        "           'F','CR']\n",
        "# BEST_INDEX= BEST_AGENTS[BEST_AGENTS[:,-1].argmin()]  \n",
        "BEST_INDEX = np.argmin(BEST_AGENTS[:,-1])\n",
        "df=pd.DataFrame(MAT_stat[BEST_INDEX], columns=NOMES)\n",
        "\n"
      ],
      "execution_count": 15,
      "outputs": []
    },
    {
      "cell_type": "code",
      "metadata": {
        "id": "jIHiKR_t1xxs",
        "colab_type": "code",
        "colab": {
          "base_uri": "https://localhost:8080/",
          "height": 711
        },
        "outputId": "27422e19-2373-4467-defe-0e7b02ec0f36"
      },
      "source": [
        "pd.set_option('display.max_columns', 30)  \n",
        "print(df)"
      ],
      "execution_count": 16,
      "outputs": [
        {
          "output_type": "stream",
          "text": [
            "     DIVERSIDADE (DI)  DI RELATIVO  FRAC Its  VELOC FOBJ  VELOC X     NP  \\\n",
            "0            3.504835     0.876136  0.002222         1.0      2.0  100.0   \n",
            "1            2.791330     0.697774  0.004444         2.0      2.0  100.0   \n",
            "2            2.445862     0.611415  0.006667         2.0      2.0  100.0   \n",
            "3            1.957888     0.489431  0.008889         1.0      2.0  100.0   \n",
            "4            1.631499     0.407841  0.011111         1.0      2.0  100.0   \n",
            "..                ...          ...       ...         ...      ...    ...   \n",
            "295          0.802936     0.200717  0.657778         1.0      2.0  100.0   \n",
            "296          0.782697     0.195658  0.660000         1.0      2.0  100.0   \n",
            "297          0.824304     0.206059  0.662222         1.0      2.0  100.0   \n",
            "298          0.817420     0.204338  0.664444         1.0      2.0  100.0   \n",
            "299          0.799178     0.199778  0.666667         1.0      2.0  100.0   \n",
            "\n",
            "           Fo       CRo       fmin        fmax  AD_fmin  AD_fmax  DELTA FOBJ  \\\n",
            "0    0.500000  0.500000  62.679724  270.205845      1.0      1.0         0.0   \n",
            "1    0.280966  0.353977  21.987458   97.335343      1.0      1.0         0.0   \n",
            "2    0.428004  0.189313   8.635207   92.284326      1.0      1.0         0.0   \n",
            "3    0.166316  0.150730   4.126311   28.010546      1.0      1.0         0.0   \n",
            "4    0.227366  0.126139   2.794080   16.759388      1.0      1.0         0.0   \n",
            "..        ...       ...        ...         ...      ...      ...         ...   \n",
            "295  0.277924  0.129665   0.231510    1.458879      1.0      1.0         0.0   \n",
            "296  0.319762  0.142678   0.135110    1.744556      1.0      1.0         0.0   \n",
            "297  0.366685  0.156636   0.313170    1.632643      1.0      1.0         0.0   \n",
            "298  0.291126  0.135119   0.345897    1.867095      1.0      1.0         0.0   \n",
            "299  0.335742  0.148924   0.226360    1.555707      1.0      1.0         0.0   \n",
            "\n",
            "     DELTA VX  r_fitness         F        CR  \n",
            "0         0.0   0.768030  0.280966  0.353977  \n",
            "1         0.0   0.774106  0.428004  0.189313  \n",
            "2         0.0   0.906428  0.166316  0.150730  \n",
            "3         0.0   0.852687  0.227366  0.126139  \n",
            "4         0.0   0.833283  0.296913  0.151862  \n",
            "..        ...        ...       ...       ...  \n",
            "295       0.0   0.841310  0.319762  0.142678  \n",
            "296       0.0   0.922553  0.366685  0.156636  \n",
            "297       0.0   0.808182  0.291126  0.135119  \n",
            "298       0.0   0.814740  0.335742  0.148924  \n",
            "299       0.0   0.854497  0.386048  0.129089  \n",
            "\n",
            "[300 rows x 17 columns]\n"
          ],
          "name": "stdout"
        }
      ]
    },
    {
      "cell_type": "code",
      "metadata": {
        "id": "bx0ywpMtAAjw",
        "colab_type": "code",
        "colab": {
          "base_uri": "https://localhost:8080/",
          "height": 297
        },
        "outputId": "e23e4a2d-b77e-4cdd-e41a-388ec1be5da4"
      },
      "source": [
        "plt.plot(df['FRAC Its'],df['CR'])\n",
        "plt.xlabel('Iteração/Total')\n",
        "plt.ylabel('CR')"
      ],
      "execution_count": 17,
      "outputs": [
        {
          "output_type": "execute_result",
          "data": {
            "text/plain": [
              "Text(0, 0.5, 'CR')"
            ]
          },
          "metadata": {
            "tags": []
          },
          "execution_count": 17
        },
        {
          "output_type": "display_data",
          "data": {
            "image/png": "[encoded data removed]",
            "text/plain": [
              "<Figure size 432x288 with 1 Axes>"
            ]
          },
          "metadata": {
            "tags": [],
            "needs_background": "light"
          }
        }
      ]
    },
    {
      "cell_type": "code",
      "metadata": {
        "id": "BvPFvbDvteDC",
        "colab_type": "code",
        "colab": {
          "base_uri": "https://localhost:8080/",
          "height": 295
        },
        "outputId": "7d23395c-09a1-4b6a-d2ca-7e3d7e3bfb4c"
      },
      "source": [
        "\n",
        "fig, ax = plt.subplots()\n",
        "ax.plot(df['FRAC Its'],df['F'],label='F')\n",
        "ax.set_xlabel('Iteração/Total')\n",
        "ax.set_ylabel('Parâmetros')\n",
        "ax.plot(df['FRAC Its'],df['CR'],'-r', label='CR')\n",
        "nome=Fun.__name__+'  M=Diversidade'+ '  D='+str(dim)\n",
        "ax.set_title(nome)\n",
        "leg = ax.legend()\n"
      ],
      "execution_count": 18,
      "outputs": [
        {
          "output_type": "display_data",
          "data": {
            "image/png": "[encoded data removed]",
            "text/plain": [
              "<Figure size 432x288 with 1 Axes>"
            ]
          },
          "metadata": {
            "tags": [],
            "needs_background": "light"
          }
        }
      ]
    },
    {
      "cell_type": "code",
      "metadata": {
        "id": "htooaGpDia_0",
        "colab_type": "code",
        "colab": {
          "base_uri": "https://localhost:8080/",
          "height": 313
        },
        "outputId": "b084aaa6-753e-49c7-bdd5-99dea5207eff"
      },
      "source": [
        "f, axarr = plt.subplots(2, sharex=True)\n",
        "axarr[0].plot(df['FRAC Its'],df['F'])\n",
        "axarr[0].set_ylabel('F')\n",
        "axarr[1].plot(df['FRAC Its'],df['CR'])\n",
        "axarr[1].set_ylabel('CR')\n",
        "axarr[1].set_xlabel('Iteração/Total')\n",
        "nome=Fun.__name__+'_Diversidade_'+ 'D='+str(dim)\n",
        "axarr[0].set_title(nome)\n"
      ],
      "execution_count": 19,
      "outputs": [
        {
          "output_type": "execute_result",
          "data": {
            "text/plain": [
              "Text(0.5, 1.0, 'Noisy_Quartic_Diversidade_D=30')"
            ]
          },
          "metadata": {
            "tags": []
          },
          "execution_count": 19
        },
        {
          "output_type": "display_data",
          "data": {
            "image/png": "[encoded data removed]",
            "text/plain": [
              "<Figure size 432x288 with 2 Axes>"
            ]
          },
          "metadata": {
            "tags": [],
            "needs_background": "light"
          }
        }
      ]
    },
    {
      "cell_type": "code",
      "metadata": {
        "id": "lNSN5X-wskcx",
        "colab_type": "code",
        "colab": {
          "base_uri": "https://localhost:8080/",
          "height": 295
        },
        "outputId": "7a9a3380-b8c7-4895-deb9-35fe0aebf6c4"
      },
      "source": [
        "nome='_ANN_Div3x4_Fo-'+str(Fi)+'_CRo-'+str(CRi)+'_D-'+str(dim)+'_Interv-'+str(ITE)\n",
        "print('DE_POP_VAR_F_CR','TOTAL=',TOTAL,'Iterações=',ITE*its,'Dim=', PAR,\"Min/Max=\",MIN[0],\"/\",MAX[0],'_',Fun.__name__)\n",
        "print(nome, '\\n')\n",
        "#print('BEST: ',BEST)\n",
        "#print('MÉDIA: ',MEAN)\n",
        "print('MÉDIA: ',MEAN[-1])\n",
        "print('MIN __:',MINFO)\n",
        "print('MAX__: ',MAXFO)\n",
        "print('STD __:',STD)\n",
        "print(\"Tempo Médio= %.3f segundos ---\" % (TIME))\n",
        "print(RUNS,'Rodadas') \n",
        "print()\n",
        "print('BEST: ',BEST)\n",
        "# print('melhor=',BEST_AGENTS[BEST_INDEX])"
      ],
      "execution_count": 20,
      "outputs": [
        {
          "output_type": "stream",
          "text": [
            "DE_POP_VAR_F_CR TOTAL= 450000 Iterações= 3000 Dim= 30 Min/Max= -1.28 / 1.28 _ Noisy_Quartic\n",
            "_ANN_Div3x4_Fo-0.5_CRo-0.5_D-30_Interv-300 \n",
            "\n",
            "MÉDIA:  0.20649739515582333\n",
            "MIN __: 0.07100821940714952\n",
            "MAX__:  0.3028045816133657\n",
            "STD __: 0.05253369711054648\n",
            "Tempo Médio= 51.658 segundos ---\n",
            "50 Rodadas\n",
            "\n",
            "BEST:  [-0.16114241 -0.15518749  0.1412921   0.01069271  0.12872979  0.02457133\n",
            "  0.15847043  0.07893929 -0.11452482  0.13288468  0.06263089  0.03966329\n",
            "  0.06361163 -0.12418595  0.05070455 -0.13419044 -0.03540548 -0.1340783\n",
            "  0.11480781 -0.02681931 -0.05785414 -0.10268812  0.01098788  0.08701299\n",
            "  0.0141653   0.13269566  0.04730275 -0.10097477 -0.0957518  -0.07996349\n",
            "  0.07100822]\n"
          ],
          "name": "stdout"
        }
      ]
    },
    {
      "cell_type": "code",
      "metadata": {
        "id": "aPPrDD5-_X6F",
        "colab_type": "code",
        "colab": {}
      },
      "source": [
        ""
      ],
      "execution_count": 20,
      "outputs": []
    }
  ]
}