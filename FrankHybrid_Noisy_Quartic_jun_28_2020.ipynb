{
 "cells": [
  {
   "cell_type": "code",
   "execution_count": 1,
   "metadata": {
    "colab": {},
    "colab_type": "code",
    "id": "cG5nOUQ9Eucw"
   },
   "outputs": [],
   "source": [
    "# Noisy_Quartic\n",
    "# In the paper Ngen=3000 NPAR=100 RUNS=50 dim=30\n",
    "# JADE: Adaptive Differential Evolution with Optional External Archive\n"
   ]
  },
  {
   "cell_type": "code",
   "execution_count": 2,
   "metadata": {},
   "outputs": [],
   "source": [
    "#  cd C:/Users/TREX/Desktop/Lockdown Paper Raiana/notebooks\n"
   ]
  },
  {
   "cell_type": "code",
   "execution_count": 3,
   "metadata": {
    "colab": {},
    "colab_type": "code",
    "id": "_E15mKFURR6O"
   },
   "outputs": [],
   "source": [
    "import Go2Ann\n",
    "import de_soma_Insight\n",
    "import de_bounds_matriz\n",
    "import Function\n",
    "import Go2MinMax\n",
    "from AvaliaX import AvaliaX\n",
    "from GeraIndices import GeraIndices\n",
    "\n",
    "############################### DADOS DE ENTRADA \n",
    "RUNS=50 #NÚMERO DE RODADAS\n",
    "Fc=0.1 # fator de correcao parametros da ANN\n",
    "its=1 #10 # quantas vezes vai usar o NPAR antes de alterar de novo\n",
    "ITE=3000 #10 # PONTOS quantas vezes vai alteral NPAR \n",
    "NPAR=100\n",
    "\n",
    "mut=0.5\n",
    "crossp=0.5\n",
    "Fi=mut;CRi=crossp;# para impressão\n",
    "\n",
    "############################### Função\n",
    "dim=30\n",
    "NPAR=int(NPAR/2) # half of particles use mutated F and CR and other not\n",
    "#fchoice='Rastrigin' #fchoice='Michalewicz' #fchoice='Schwefel'\n",
    "fchoice='Noisy_Quartic'\n",
    "Fun=Function.Noisy_Quartic\n",
    "\n",
    "MIN,MAX=Go2MinMax.Intervalo(dim,fchoice)\n",
    "PAR=len(MAX) #NUM DE PARAMETROS A SER OTIMIZADOS\n"
   ]
  },
  {
   "cell_type": "code",
   "execution_count": 4,
   "metadata": {
    "colab": {},
    "colab_type": "code",
    "id": "v1OxgXboBKoG"
   },
   "outputs": [],
   "source": [
    "import time\n",
    "import matplotlib.pyplot as plt\n",
    "import numpy as np\n",
    "from random import randint\n",
    "from scipy import optimize\n",
    "import pandas as pd\n",
    "from sklearn.metrics import confusion_matrix"
   ]
  },
  {
   "cell_type": "code",
   "execution_count": 5,
   "metadata": {
    "colab": {},
    "colab_type": "code",
    "id": "QiQLYOoNoyCw"
   },
   "outputs": [],
   "source": [
    "ANN_F=pd.read_csv('ANN_INSIGHT_Valor_F.csv')"
   ]
  },
  {
   "cell_type": "code",
   "execution_count": 6,
   "metadata": {
    "colab": {},
    "colab_type": "code",
    "id": "uHtW2amaDzFv"
   },
   "outputs": [],
   "source": [
    "ANN_CR=pd.read_csv('ANN_INSIGHT_CR.csv')"
   ]
  },
  {
   "cell_type": "code",
   "execution_count": 7,
   "metadata": {
    "colab": {},
    "colab_type": "code",
    "id": "EH6h_vke2yu1"
   },
   "outputs": [],
   "source": [
    "syn0_F,syn1_F,X_max_F,X_min_F=Go2Ann.GetMatriz(ANN_F)"
   ]
  },
  {
   "cell_type": "code",
   "execution_count": 8,
   "metadata": {
    "colab": {},
    "colab_type": "code",
    "id": "WW_3ZWJXD60i"
   },
   "outputs": [],
   "source": [
    "syn0_CR,syn1_CR,X_max_CR,X_min_CR=Go2Ann.GetMatriz(ANN_CR)"
   ]
  },
  {
   "cell_type": "code",
   "execution_count": 9,
   "metadata": {
    "colab": {},
    "colab_type": "code",
    "id": "b4gwBvVTyaXh"
   },
   "outputs": [],
   "source": [
    "ANN_CR=pd.read_csv('ANN_INSIGHT_CR.csv')"
   ]
  },
  {
   "cell_type": "code",
   "execution_count": 10,
   "metadata": {
    "colab": {},
    "colab_type": "code",
    "id": "6jL8MxpHvk-Y"
   },
   "outputs": [],
   "source": [
    "fields = ['DI RELATIVO','FRAC Its','Fo','CRo']"
   ]
  },
  {
   "cell_type": "code",
   "execution_count": 11,
   "metadata": {
    "colab": {},
    "colab_type": "code",
    "id": "Mb3LmbSmj9v7"
   },
   "outputs": [],
   "source": [
    "##################################### \n",
    "\n",
    "#TOTAL=7*dim*its*ITE\n",
    "TOTAL=10*dim*its*ITE\n",
    "TOTAL=int(TOTAL/2)   # CONFERIR SE ESTE EH O MELHOR LUGAR\n",
    "\n",
    "dimensions=len(MAX)\n",
    "start_time = time.time() #INICIALIZA CONTAGEM DO TEMPO\n",
    "\n",
    "\n",
    "MAX_P=np.zeros(ITE) # ATENCAO para variar F e Cr MAX_P passa a ser 3 vezes maior\n",
    "MIN_P=np.zeros(ITE) # ATENCAO para variar F e Cr MIN_P passa a ser 3 vezes maior\n",
    "\n",
    "for i in range(dim):\n",
    "  MAX_P[i]=MAX[i] \n",
    "  MIN_P[i]=MIN[i]\n",
    "\n",
    "rodadas=1\n",
    "for i in range(rodadas):\n",
    "  SOMA=0\n",
    "  pop = np.random.rand(NPAR, dimensions)\n",
    "  diff=np.zeros(PAR)\n",
    "  for ii in range(PAR):\n",
    "    diff[ii] = MAX[ii]-MIN[ii]\n",
    "  X = MIN + pop * diff\n",
    "    \n",
    "  PONTOS=ITE # DIVISOES DA POPULACAO\n",
    " \n",
    "\n",
    "\n"
   ]
  },
  {
   "cell_type": "code",
   "execution_count": 12,
   "metadata": {
    "colab": {},
    "colab_type": "code",
    "id": "rnX8ttNopd1G"
   },
   "outputs": [
    {
     "name": "stdout",
     "output_type": "stream",
     "text": [
      "run= 0 total=50 Fobj= 0.0707808568891\n",
      "run= 1 total=50 Fobj= 0.112435087705\n",
      "run= 2 total=50 Fobj= 0.287268905266\n",
      "run= 3 total=50 Fobj= 0.145733378784\n",
      "run= 4 total=50 Fobj= 0.105814628613\n",
      "run= 5 total=50 Fobj= 0.0266518390463\n",
      "run= 6 total=50 Fobj= 0.150082088657\n",
      "run= 7 total=50 Fobj= 0.105965678824\n",
      "run= 8 total=50 Fobj= 0.123147109834\n",
      "run= 9 total=50 Fobj= 0.11655892198\n",
      "run= 10 total=50 Fobj= 0.135912052088\n",
      "run= 11 total=50 Fobj= 0.111992744292\n",
      "run= 12 total=50 Fobj= 0.0977115054888\n",
      "run= 13 total=50 Fobj= 0.129622018503\n",
      "run= 14 total=50 Fobj= 0.173700738942\n",
      "run= 15 total=50 Fobj= 0.125250935313\n",
      "run= 16 total=50 Fobj= 0.0942959869197\n",
      "run= 17 total=50 Fobj= 0.0978504625227\n",
      "run= 18 total=50 Fobj= 0.12432071946\n",
      "run= 19 total=50 Fobj= 0.0877586982664\n",
      "run= 20 total=50 Fobj= 0.151589757948\n",
      "run= 21 total=50 Fobj= 0.174403270694\n",
      "run= 22 total=50 Fobj= 0.146285825781\n",
      "run= 23 total=50 Fobj= 0.152724769291\n",
      "run= 24 total=50 Fobj= 0.153505362392\n",
      "run= 25 total=50 Fobj= 0.196323010418\n",
      "run= 26 total=50 Fobj= 0.115176734366\n",
      "run= 27 total=50 Fobj= 0.0857059391557\n",
      "run= 28 total=50 Fobj= 0.148042295138\n",
      "run= 29 total=50 Fobj= 0.10133083049\n",
      "run= 30 total=50 Fobj= 0.0742181902803\n",
      "run= 31 total=50 Fobj= 0.138030219928\n",
      "run= 32 total=50 Fobj= 0.165644441395\n",
      "run= 33 total=50 Fobj= 0.0758480739528\n",
      "run= 34 total=50 Fobj= 0.160068977101\n",
      "run= 35 total=50 Fobj= 0.273830782376\n",
      "run= 36 total=50 Fobj= 0.116474147912\n",
      "run= 37 total=50 Fobj= 0.145675038104\n",
      "run= 38 total=50 Fobj= 0.0832724622245\n",
      "run= 39 total=50 Fobj= 0.219513733542\n",
      "run= 40 total=50 Fobj= 0.166315158878\n",
      "run= 41 total=50 Fobj= 0.0316525689299\n",
      "run= 42 total=50 Fobj= 0.13116999126\n",
      "run= 43 total=50 Fobj= 0.0924395782659\n",
      "run= 44 total=50 Fobj= 0.111734008637\n",
      "run= 45 total=50 Fobj= 0.158400509936\n",
      "run= 46 total=50 Fobj= 0.186498357181\n",
      "run= 47 total=50 Fobj= 0.14472541662\n",
      "run= 48 total=50 Fobj= 0.161315637198\n",
      "run= 49 total=50 Fobj= 0.0798805292729\n"
     ]
    }
   ],
   "source": [
    "\n",
    "start_time = time.time()\n",
    "BEST_AGENTS=[]\n",
    "MAT_stat=[]\n",
    "for i in range(RUNS):\n",
    "    MAT=[] \n",
    "    mut=Fi\n",
    "    crossp=CRi\n",
    "    SOMA=0\n",
    "    SOMAf=0\n",
    "    pop = np.random.rand(NPAR, dim)\n",
    "    diff=np.zeros(PAR)\n",
    "    for ii in range(PAR):\n",
    "      diff[ii] = MAX[ii]-MIN[ii]\n",
    "    X = MIN + pop * diff\n",
    "    Xf = MIN + pop * diff\n",
    "    \n",
    "    DIo=1e99\n",
    "  \n",
    "    CRo=crossp;Fo=mut;\n",
    "    Fitness = np.asarray([Fun(ind) for ind in X])\n",
    "\n",
    "    XY,BEST_XY,BESTo,FOBESTo=AvaliaX(X,Fitness)\n",
    "    nrow,ncol=X.shape\n",
    "\n",
    "    QUANT=17;MAT_INDo=np.zeros((1,QUANT)); # quantos indices esta fazendo\n",
    "    MAT_INDo[0,5]=nrow  # VALOR NP\n",
    "    MAT_INDo[0,6]=Fo    # VALOR Fo   \n",
    "    MAT_INDo[0,7]=CRo   # VALOR CRo\n",
    "  \n",
    "    MAT_INDo=GeraIndices(X,BESTo,FOBESTo,DIo,MAT_INDo,SOMA,TOTAL,syn0_F,\n",
    "                        syn1_F,X_max_F,X_min_F,syn0_CR,syn1_CR,X_max_CR,\n",
    "                        X_min_CR,Fc,fields,Fun)\n",
    "  \n",
    "    DIo=np.copy(MAT_INDo[0,0])\n",
    "    MAT_INDo[0,15]=Fo    # VALOR Fo   \n",
    "    MAT_INDo[0,16]=CRo   # VALOR CRo\n",
    "    #ind_crossp=ITE-1\n",
    "    \n",
    "    \n",
    "    \n",
    "    for k in range(ITE):\n",
    "      X,BEST,FOBEST,XY,BEST_XY,SOMA= de_soma_Insight.de(MAX,MIN, mut, crossp,NPAR,its,Fun,X,SOMA,TOTAL)\n",
    "      Xf,BESTf,FOBESTf,XYf,BEST_XYf,SOMAf= de_soma_Insight.de(MAX,MIN, Fi, CRi, NPAR,its,Fun,Xf,SOMAf,TOTAL)\n",
    "\n",
    "      \n",
    "      MAT_IND=GeraIndices(X,BESTo,FOBESTo,DIo,MAT_INDo,SOMA,TOTAL,syn0_F,\n",
    "                          syn1_F,X_max_F,X_min_F,syn0_CR,syn1_CR,X_max_CR,\n",
    "                          X_min_CR,Fc,fields,Fun)\n",
    "    \n",
    "      BESTo=np.copy(BEST);FOBESTo=np.copy(FOBEST);\n",
    "      MAT.append(MAT_IND.ravel())\n",
    "    \n",
    "      MAT_INDo[0,6]=MAT_IND[0,15]   # VALOR Fo   \n",
    "      MAT_INDo[0,7]=MAT_IND[0,16]   # VALOR CRo\n",
    "      mut=MAT_IND[0,15]\n",
    "      crossp=MAT_IND[0,16]\n",
    "\n",
    "      Fitness = np.asarray([Fun(ind) for ind in X])\n",
    "      Fitnessf = np.asarray([Fun(ind) for ind in Xf])\n",
    "      Maior=np.argmax(Fitness)\n",
    "      Maiorf=np.argmax(Fitnessf)\n",
    "      Menor=np.argmin(Fitness)\n",
    "      Menorf=np.argmin(Fitnessf)\n",
    "\n",
    "      X[Maior,:]=np.copy(Xf[Menorf,:])\n",
    "      Xf[Maiorf,:]=np.copy(X[Menor,:])\n",
    "    print('run=',i,'total=50','Fobj=',FOBEST)  \n",
    "    BEST_AGENTS.append(BEST_XY)\n",
    "    MAT_stat.append(MAT)\n",
    "    #print(\"GlobalParam e Solucao:\", BEST,\"Funcao=\",FOBEST)\n",
    "    \n",
    "############################## Cálculo dos Parâmetros de Avaliação   \n",
    "TIME = (time.time() - start_time)/RUNS\n",
    "BEST_AGENTS=np.array(BEST_AGENTS)\n",
    "BEST_AGENTS_ST= BEST_AGENTS[BEST_AGENTS[:,-1].argsort()]\n",
    "BEST=BEST_AGENTS_ST[0]\n",
    "WORSE=BEST_AGENTS_ST[-1]\n",
    "MEAN=np.mean(BEST_AGENTS,axis=0)\n",
    "MAXFO=BEST_AGENTS[:,-1].max()''\n",
    "MINFO=BEST_AGENTS[:,-1].min()\n",
    "STD=BEST_AGENTS[:,-1].std()"
   ]
  },
  {
   "cell_type": "code",
   "execution_count": 13,
   "metadata": {
    "colab": {
     "base_uri": "https://localhost:8080/",
     "height": 34
    },
    "colab_type": "code",
    "id": "5gDOmRHCygU-",
    "outputId": "bc719e0f-ce5d-487e-a6d5-b87afcbd96de"
   },
   "outputs": [],
   "source": [
    "# print(TOTAL)"
   ]
  },
  {
   "cell_type": "code",
   "execution_count": 14,
   "metadata": {
    "colab": {},
    "colab_type": "code",
    "id": "k3p9TGsx1OCu"
   },
   "outputs": [],
   "source": [
    "NOMES=['DIVERSIDADE (DI)',  'DI RELATIVO','FRAC Its',\n",
    "           'VELOC FOBJ','VELOC X','NP','Fo','CRo','fmin','fmax',\n",
    "           'AD_fmin','AD_fmax','DELTA FOBJ','DELTA VX','r_fitness',\n",
    "           'F','CR']\n",
    "# BEST_INDEX= BEST_AGENTS[BEST_AGENTS[:,-1].argmin()]  \n",
    "BEST_INDEX = np.argmin(BEST_AGENTS[:,-1])\n",
    "df=pd.DataFrame(MAT_stat[BEST_INDEX], columns=NOMES)\n",
    "\n"
   ]
  },
  {
   "cell_type": "code",
   "execution_count": 15,
   "metadata": {
    "colab": {
     "base_uri": "https://localhost:8080/",
     "height": 689
    },
    "colab_type": "code",
    "id": "jIHiKR_t1xxs",
    "outputId": "7275bbdc-78b5-49ef-bd30-7cd3f0b73e80"
   },
   "outputs": [],
   "source": [
    "#pd.set_option('display.max_columns', 30)  \n",
    "#print(df)"
   ]
  },
  {
   "cell_type": "code",
   "execution_count": 16,
   "metadata": {
    "colab": {
     "base_uri": "https://localhost:8080/",
     "height": 300
    },
    "colab_type": "code",
    "id": "bx0ywpMtAAjw",
    "outputId": "23f04c41-e4ff-4c50-e60e-5abf52155edd"
   },
   "outputs": [
    {
     "data": {
      "text/plain": [
       "<matplotlib.text.Text at 0x2f3885da58>"
      ]
     },
     "execution_count": 16,
     "metadata": {},
     "output_type": "execute_result"
    },
    {
     "data": {
      "image/png": "[encoded data removed]",
      "text/plain": [
       "<matplotlib.figure.Figure at 0x2f3881c0b8>"
      ]
     },
     "metadata": {
      "needs_background": "light"
     },
     "output_type": "display_data"
    }
   ],
   "source": [
    "plt.plot(df['FRAC Its'],df['CR'])\n",
    "plt.xlabel('Iteração/Total')\n",
    "plt.ylabel('CR')"
   ]
  },
  {
   "cell_type": "code",
   "execution_count": 17,
   "metadata": {
    "colab": {
     "base_uri": "https://localhost:8080/",
     "height": 295
    },
    "colab_type": "code",
    "id": "BvPFvbDvteDC",
    "outputId": "2973f262-890d-42f6-85a1-eab1012af5fe"
   },
   "outputs": [
    {
     "data": {
      "image/png": "[encoded data removed]",
      "text/plain": [
       "<matplotlib.figure.Figure at 0x2f3d0246d8>"
      ]
     },
     "metadata": {
      "needs_background": "light"
     },
     "output_type": "display_data"
    }
   ],
   "source": [
    "\n",
    "fig, ax = plt.subplots()\n",
    "ax.plot(df['FRAC Its'],df['F'],label='F')\n",
    "ax.set_xlabel('Iteração/Total')\n",
    "ax.set_ylabel('Parâmetros')\n",
    "ax.plot(df['FRAC Its'],df['CR'],'-r', label='CR')\n",
    "nome=Fun.__name__+'  M=Diversidade'+ '  D='+str(dim)\n",
    "ax.set_title(nome)\n",
    "leg = ax.legend()\n"
   ]
  },
  {
   "cell_type": "code",
   "execution_count": 18,
   "metadata": {
    "colab": {
     "base_uri": "https://localhost:8080/",
     "height": 312
    },
    "colab_type": "code",
    "id": "htooaGpDia_0",
    "outputId": "b64ca6fe-323e-4240-ffd6-55bd6eee94aa"
   },
   "outputs": [
    {
     "data": {
      "text/plain": [
       "<matplotlib.text.Text at 0x2f3d295518>"
      ]
     },
     "execution_count": 18,
     "metadata": {},
     "output_type": "execute_result"
    },
    {
     "data": {
      "image/png": "[encoded data removed]",
      "text/plain": [
       "<matplotlib.figure.Figure at 0x2f3d259080>"
      ]
     },
     "metadata": {
      "needs_background": "light"
     },
     "output_type": "display_data"
    }
   ],
   "source": [
    "f, axarr = plt.subplots(2, sharex=True)\n",
    "axarr[0].plot(df['FRAC Its'],df['F'])\n",
    "axarr[0].set_ylabel('F')\n",
    "axarr[1].plot(df['FRAC Its'],df['CR'])\n",
    "axarr[1].set_ylabel('CR')\n",
    "axarr[1].set_xlabel('Iteração/Total')\n",
    "nome=Fun.__name__+'_Diversidade_'+ 'D='+str(dim)\n",
    "axarr[0].set_title(nome)\n"
   ]
  },
  {
   "cell_type": "code",
   "execution_count": 19,
   "metadata": {
    "colab": {
     "base_uri": "https://localhost:8080/",
     "height": 286
    },
    "colab_type": "code",
    "id": "lNSN5X-wskcx",
    "outputId": "51e11467-831b-443d-f6fb-453deeb376b7"
   },
   "outputs": [
    {
     "name": "stdout",
     "output_type": "stream",
     "text": [
      "DE_POP_VAR_F_CR TOTAL= 450000 Iterações= 3000 Dim= 30 Min/Max= -1.28 / 1.28 _ Noisy_Quartic\n",
      "_ANN_Div3x4_Fo-0.5_CRo-0.5_D-30_Interv-3000 \n",
      "\n",
      "MÉDIA:  0.131292999521\n",
      "MIN __: 0.0266518390463\n",
      "MAX__:  0.287268905266\n",
      "STD __: 0.0490278348485\n",
      "Tempo Médio= 357.505 segundos ---\n",
      "50 Rodadas\n",
      "\n",
      "BEST:  [-0.03389706 -0.10424709  0.04295405  0.02974183 -0.09874269  0.0565833\n",
      "  0.12864825 -0.09591167 -0.01769603  0.07587522 -0.12930739  0.00897093\n",
      "  0.03106153 -0.14645328 -0.08885     0.01571494 -0.04499056  0.00981736\n",
      " -0.02533486 -0.07094761  0.14709965 -0.04656157 -0.01786588  0.05124028\n",
      " -0.05953132  0.05732297 -0.02687843  0.04201818  0.01325926 -0.03727387\n",
      "  0.02665184]\n"
     ]
    }
   ],
   "source": [
    "nome='_ANN_Div3x4_Fo-'+str(Fi)+'_CRo-'+str(CRi)+'_D-'+str(dim)+'_Interv-'+str(ITE)\n",
    "print('DE_POP_VAR_F_CR','TOTAL=',TOTAL,'Iterações=',ITE*its,'Dim=', PAR,\"Min/Max=\",MIN[0],\"/\",MAX[0],'_',Fun.__name__)\n",
    "print(nome, '\\n')\n",
    "#print('BEST: ',BEST)\n",
    "#print('MÉDIA: ',MEAN)\n",
    "print('MÉDIA: ',MEAN[-1])\n",
    "print('MIN __:',MINFO)\n",
    "print('MAX__: ',MAXFO)\n",
    "print('STD __:',STD)\n",
    "print(\"Tempo Médio= %.3f segundos ---\" % (TIME))\n",
    "print(RUNS,'Rodadas') \n",
    "print()\n",
    "print('BEST: ',BEST)\n",
    "# print('melhor=',BEST_AGENTS[BEST_INDEX])"
   ]
  },
  {
   "cell_type": "code",
   "execution_count": null,
   "metadata": {
    "colab": {},
    "colab_type": "code",
    "id": "aPPrDD5-_X6F"
   },
   "outputs": [],
   "source": []
  }
 ],
 "metadata": {
  "accelerator": "GPU",
  "colab": {
   "collapsed_sections": [],
   "name": "Frank_Noisy_Quartic_jun_27_2020.ipynb",
   "provenance": []
  },
  "kernelspec": {
   "display_name": "Python 3",
   "language": "python",
   "name": "python3"
  },
  "language_info": {
   "codemirror_mode": {
    "name": "ipython",
    "version": 3
   },
   "file_extension": ".py",
   "mimetype": "text/x-python",
   "name": "python",
   "nbconvert_exporter": "python",
   "pygments_lexer": "ipython3",
   "version": "3.6.1"
  }
 },
 "nbformat": 4,
 "nbformat_minor": 1
}
